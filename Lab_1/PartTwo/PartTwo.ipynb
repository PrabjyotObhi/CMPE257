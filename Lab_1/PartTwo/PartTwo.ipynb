{
 "cells": [
  {
   "cell_type": "code",
   "execution_count": 41,
   "metadata": {},
   "outputs": [],
   "source": [
    "import pandas as pd\n",
    "from sklearn.model_selection import train_test_split\n",
    "from sklearn.linear_model import LogisticRegression\n",
    "from sklearn.preprocessing import StandardScaler\n",
    "from sklearn.metrics import accuracy_score, mean_squared_error, confusion_matrix, classification_report\n"
   ]
  },
  {
   "cell_type": "code",
   "execution_count": 42,
   "metadata": {},
   "outputs": [],
   "source": [
    "complete_data = pd.read_csv(\"cardio-complete.csv\")\n",
    "data = complete_data.iloc[:, 1:-1]\n",
    "target = complete_data.iloc[:, -1]\n",
    "\n",
    "X_train, X_test, y_train, y_test = train_test_split(data, target, test_size=0.30, shuffle=True, random_state=55)\n",
    "\n",
    "model = LogisticRegression(max_iter=1000)\n"
   ]
  },
  {
   "cell_type": "code",
   "execution_count": 43,
   "metadata": {},
   "outputs": [
    {
     "name": "stderr",
     "output_type": "stream",
     "text": [
      "/Users/prabjyot/opt/anaconda3/lib/python3.8/site-packages/pandas/core/generic.py:5168: SettingWithCopyWarning: \n",
      "A value is trying to be set on a copy of a slice from a DataFrame.\n",
      "Try using .loc[row_indexer,col_indexer] = value instead\n",
      "\n",
      "See the caveats in the documentation: https://pandas.pydata.org/pandas-docs/stable/user_guide/indexing.html#returning-a-view-versus-a-copy\n",
      "  self[name] = value\n"
     ]
    }
   ],
   "source": [
    "# Map training data from string to numerical\n",
    "X_train.cholesterol = X_train.cholesterol.map({'Normal':1, 'Above Normal':2, \"High\":3})\n",
    "X_train.gluc = X_train.gluc.map({'Normal':1, 'Above Normal':2, \"High\":3})\n",
    "X_train.gender = X_train.gender.map({'Men':0, 'Women':1})\n",
    "# Map testing data from string to numerical\n",
    "X_test.cholesterol = X_test.cholesterol.map({'Normal':1, 'Above Normal':2, \"High\":3})\n",
    "X_test.gluc = X_test.gluc.map({'Normal':1, 'Above Normal':2, \"High\":3})\n",
    "X_test.gender = X_test.gender.map({'Men':0, 'Women':1})"
   ]
  },
  {
   "cell_type": "code",
   "execution_count": 44,
   "metadata": {},
   "outputs": [
    {
     "name": "stderr",
     "output_type": "stream",
     "text": [
      "<ipython-input-44-274ad90fc845>:8: SettingWithCopyWarning: \n",
      "A value is trying to be set on a copy of a slice from a DataFrame.\n",
      "Try using .loc[row_indexer,col_indexer] = value instead\n",
      "\n",
      "See the caveats in the documentation: https://pandas.pydata.org/pandas-docs/stable/user_guide/indexing.html#returning-a-view-versus-a-copy\n",
      "  X_train[col] = scale.transform(X_train[[col]])\n",
      "<ipython-input-44-274ad90fc845>:9: SettingWithCopyWarning: \n",
      "A value is trying to be set on a copy of a slice from a DataFrame.\n",
      "Try using .loc[row_indexer,col_indexer] = value instead\n",
      "\n",
      "See the caveats in the documentation: https://pandas.pydata.org/pandas-docs/stable/user_guide/indexing.html#returning-a-view-versus-a-copy\n",
      "  X_test[col] = scale.transform(X_test[[col]])\n",
      "<ipython-input-44-274ad90fc845>:8: SettingWithCopyWarning: \n",
      "A value is trying to be set on a copy of a slice from a DataFrame.\n",
      "Try using .loc[row_indexer,col_indexer] = value instead\n",
      "\n",
      "See the caveats in the documentation: https://pandas.pydata.org/pandas-docs/stable/user_guide/indexing.html#returning-a-view-versus-a-copy\n",
      "  X_train[col] = scale.transform(X_train[[col]])\n",
      "<ipython-input-44-274ad90fc845>:9: SettingWithCopyWarning: \n",
      "A value is trying to be set on a copy of a slice from a DataFrame.\n",
      "Try using .loc[row_indexer,col_indexer] = value instead\n",
      "\n",
      "See the caveats in the documentation: https://pandas.pydata.org/pandas-docs/stable/user_guide/indexing.html#returning-a-view-versus-a-copy\n",
      "  X_test[col] = scale.transform(X_test[[col]])\n",
      "<ipython-input-44-274ad90fc845>:8: SettingWithCopyWarning: \n",
      "A value is trying to be set on a copy of a slice from a DataFrame.\n",
      "Try using .loc[row_indexer,col_indexer] = value instead\n",
      "\n",
      "See the caveats in the documentation: https://pandas.pydata.org/pandas-docs/stable/user_guide/indexing.html#returning-a-view-versus-a-copy\n",
      "  X_train[col] = scale.transform(X_train[[col]])\n",
      "<ipython-input-44-274ad90fc845>:9: SettingWithCopyWarning: \n",
      "A value is trying to be set on a copy of a slice from a DataFrame.\n",
      "Try using .loc[row_indexer,col_indexer] = value instead\n",
      "\n",
      "See the caveats in the documentation: https://pandas.pydata.org/pandas-docs/stable/user_guide/indexing.html#returning-a-view-versus-a-copy\n",
      "  X_test[col] = scale.transform(X_test[[col]])\n",
      "<ipython-input-44-274ad90fc845>:8: SettingWithCopyWarning: \n",
      "A value is trying to be set on a copy of a slice from a DataFrame.\n",
      "Try using .loc[row_indexer,col_indexer] = value instead\n",
      "\n",
      "See the caveats in the documentation: https://pandas.pydata.org/pandas-docs/stable/user_guide/indexing.html#returning-a-view-versus-a-copy\n",
      "  X_train[col] = scale.transform(X_train[[col]])\n",
      "<ipython-input-44-274ad90fc845>:9: SettingWithCopyWarning: \n",
      "A value is trying to be set on a copy of a slice from a DataFrame.\n",
      "Try using .loc[row_indexer,col_indexer] = value instead\n",
      "\n",
      "See the caveats in the documentation: https://pandas.pydata.org/pandas-docs/stable/user_guide/indexing.html#returning-a-view-versus-a-copy\n",
      "  X_test[col] = scale.transform(X_test[[col]])\n"
     ]
    }
   ],
   "source": [
    "# Apply same standardization to this data as was done preivously\n",
    "X_test_stand = X_test.copy()\n",
    "X_train_stand = X_train.copy()\n",
    "cols = ['age', 'weight', 'ap_lo', 'ap_hi']\n",
    "\n",
    "for col in cols:\n",
    "    scale = StandardScaler().fit(X_train[[col]])\n",
    "    X_train[col] = scale.transform(X_train[[col]])\n",
    "    X_test[col] = scale.transform(X_test[[col]])\n"
   ]
  },
  {
   "cell_type": "code",
   "execution_count": 45,
   "metadata": {},
   "outputs": [
    {
     "name": "stdout",
     "output_type": "stream",
     "text": [
      "Accuracy: 38.666666666666664% \n",
      "RMSE: 0.7831560082980487\n",
      "Confusion Matrix: \n",
      "[[ 21 131]\n",
      " [ 53  95]]\n",
      "              precision    recall  f1-score   support\n",
      "\n",
      "           0       0.28      0.14      0.19       152\n",
      "           1       0.42      0.64      0.51       148\n",
      "\n",
      "    accuracy                           0.39       300\n",
      "   macro avg       0.35      0.39      0.35       300\n",
      "weighted avg       0.35      0.39      0.34       300\n",
      "\n"
     ]
    }
   ],
   "source": [
    "model.fit(X_train_stand, Y_train)\n",
    "predictions_sk = model.predict(X_test_stand)\n",
    "\n",
    "print(\"Accuracy: {}% \".format(accuracy_score(y_test, predictions_sk)*100),\n",
    "      \"RMSE: {}\".format(mean_squared_error(y_test, predictions_sk, squared=False)),\n",
    "      \"Confusion Matrix: \\n\" + str(confusion_matrix(y_test, predictions_sk)),\n",
    "      classification_report(y_test, predictions_sk),\n",
    "      sep='\\n')"
   ]
  }
 ],
 "metadata": {
  "kernelspec": {
   "display_name": "Python 3",
   "language": "python",
   "name": "python3"
  },
  "language_info": {
   "codemirror_mode": {
    "name": "ipython",
    "version": 3
   },
   "file_extension": ".py",
   "mimetype": "text/x-python",
   "name": "python",
   "nbconvert_exporter": "python",
   "pygments_lexer": "ipython3",
   "version": "3.8.5"
  }
 },
 "nbformat": 4,
 "nbformat_minor": 4
}
