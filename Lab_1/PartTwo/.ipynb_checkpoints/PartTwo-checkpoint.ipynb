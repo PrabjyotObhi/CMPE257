{
 "cells": [
  {
   "cell_type": "code",
   "execution_count": 20,
   "metadata": {},
   "outputs": [],
   "source": [
    "import pandas as pd\n",
    "from sklearn.model_selection import train_test_split\n",
    "from sklearn.linear_model import LogisticRegression\n",
    "from sklearn.preprocessing import StandardScaler\n",
    "from sklearn.metrics import accuracy_score, mean_squared_error, confusion_matrix, classification_report\n"
   ]
  },
  {
   "cell_type": "code",
   "execution_count": 16,
   "metadata": {},
   "outputs": [],
   "source": [
    "complete_data = pd.read_csv(\"cardio-complete.csv\")"
   ]
  },
  {
   "cell_type": "code",
   "execution_count": 21,
   "metadata": {},
   "outputs": [
    {
     "name": "stdout",
     "output_type": "stream",
     "text": [
      "Accuracy: 69.0% \n",
      "RMSE: 0.5567764362830022\n",
      "Confusion Matrix: \n",
      "[[113  38]\n",
      " [ 55  94]]\n",
      "              precision    recall  f1-score   support\n",
      "\n",
      "           0       0.67      0.75      0.71       151\n",
      "           1       0.71      0.63      0.67       149\n",
      "\n",
      "    accuracy                           0.69       300\n",
      "   macro avg       0.69      0.69      0.69       300\n",
      "weighted avg       0.69      0.69      0.69       300\n",
      "\n"
     ]
    }
   ],
   "source": [
    "X_train, X_test, Y_train, Y_test = train_test_split(complete_data.iloc[:, 1:-1], complete_data.iloc[:, -1], train_size=0.70, test_size=0.30)\n",
    "model = LogisticRegression(max_iter=1000)\n",
    "# Map training data from string to numerical\n",
    "X_train.cholesterol = X_train.cholesterol.map({'Normal':1, 'Above Normal':2, \"High\":3})\n",
    "X_train.gluc = X_train.gluc.map({'Normal':1, 'Above Normal':2, \"High\":3})\n",
    "X_train.gender = X_train.gender.map({'Men':0, 'Women':1})\n",
    "# Map testing data from string to numerical\n",
    "X_test.cholesterol = X_test.cholesterol.map({'Normal':1, 'Above Normal':2, \"High\":3})\n",
    "X_test.gluc = X_test.gluc.map({'Normal':1, 'Above Normal':2, \"High\":3})\n",
    "X_test.gender = X_test.gender.map({'Men':0, 'Women':1})\n",
    "# Apply same standardization to this data as was done preivously\n",
    "X_test_stand = X_test.copy()\n",
    "X_train_stand = X_train.copy()\n",
    "cols = ['age', 'weight', 'ap_lo', 'ap_hi']\n",
    "\n",
    "for col in cols:\n",
    "    scale = StandardScaler().fit(X_train[[col]])\n",
    "    X_train[col] = scale.transform(X_train[[col]])\n",
    "    X_test[col] = scale.transform(X_test[[col]])\n",
    "\n",
    "model.fit(X_train_stand, Y_train)\n",
    "predictions_sk = model.predict(X_test_stand)\n",
    "\n",
    "print(\"Accuracy: {}% \".format(accuracy_score(Y_test, predictions_sk)*100),\n",
    "      \"RMSE: {}\".format(mean_squared_error(Y_test, predictions_sk, squared=False)),\n",
    "      \"Confusion Matrix: \\n\" + str(confusion_matrix(Y_test, predictions_sk)),\n",
    "      classification_report(Y_test, predictions_sk),\n",
    "      sep='\\n')\n"
   ]
  }
 ],
 "metadata": {
  "kernelspec": {
   "display_name": "Python 3",
   "language": "python",
   "name": "python3"
  },
  "language_info": {
   "codemirror_mode": {
    "name": "ipython",
    "version": 3
   },
   "file_extension": ".py",
   "mimetype": "text/x-python",
   "name": "python",
   "nbconvert_exporter": "python",
   "pygments_lexer": "ipython3",
   "version": "3.8.5"
  }
 },
 "nbformat": 4,
 "nbformat_minor": 4
}
