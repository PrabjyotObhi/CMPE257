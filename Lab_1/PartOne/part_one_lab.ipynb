{
 "cells": [
  {
   "cell_type": "code",
   "execution_count": 64,
   "metadata": {},
   "outputs": [],
   "source": [
    "import pandas as pd\n",
    "import numpy as np\n",
    "import matplotlib.pyplot as plt\n",
    "import seaborn as sns"
   ]
  },
  {
   "cell_type": "code",
   "execution_count": 33,
   "metadata": {},
   "outputs": [],
   "source": [
    "cardio_train_data_set = pd.read_csv(\"cardio-train.csv\", sep = ';')\n",
    "cardio_test_data_set = pd.read_csv(\"cardio-test.csv\", sep = ',')"
   ]
  },
  {
   "cell_type": "code",
   "execution_count": 83,
   "metadata": {},
   "outputs": [
    {
     "data": {
      "text/html": [
       "<div>\n",
       "<style scoped>\n",
       "    .dataframe tbody tr th:only-of-type {\n",
       "        vertical-align: middle;\n",
       "    }\n",
       "\n",
       "    .dataframe tbody tr th {\n",
       "        vertical-align: top;\n",
       "    }\n",
       "\n",
       "    .dataframe thead th {\n",
       "        text-align: right;\n",
       "    }\n",
       "</style>\n",
       "<table border=\"1\" class=\"dataframe\">\n",
       "  <thead>\n",
       "    <tr style=\"text-align: right;\">\n",
       "      <th></th>\n",
       "      <th>id</th>\n",
       "      <th>age</th>\n",
       "      <th>gender</th>\n",
       "      <th>height</th>\n",
       "      <th>weight</th>\n",
       "      <th>ap_hi</th>\n",
       "      <th>ap_lo</th>\n",
       "      <th>cholesterol</th>\n",
       "      <th>gluc</th>\n",
       "      <th>smoke</th>\n",
       "      <th>alco</th>\n",
       "      <th>active</th>\n",
       "      <th>cardio</th>\n",
       "    </tr>\n",
       "  </thead>\n",
       "  <tbody>\n",
       "    <tr>\n",
       "      <th>0</th>\n",
       "      <td>92150</td>\n",
       "      <td>20535.0</td>\n",
       "      <td>NaN</td>\n",
       "      <td>163.0</td>\n",
       "      <td>75.0</td>\n",
       "      <td>120.0</td>\n",
       "      <td>NaN</td>\n",
       "      <td>NaN</td>\n",
       "      <td>Normal</td>\n",
       "      <td>0.0</td>\n",
       "      <td>0.0</td>\n",
       "      <td>1.0</td>\n",
       "      <td>0</td>\n",
       "    </tr>\n",
       "    <tr>\n",
       "      <th>1</th>\n",
       "      <td>88880</td>\n",
       "      <td>16125.0</td>\n",
       "      <td>Men</td>\n",
       "      <td>168.0</td>\n",
       "      <td>68.0</td>\n",
       "      <td>110.0</td>\n",
       "      <td>70.0</td>\n",
       "      <td>NaN</td>\n",
       "      <td>NaN</td>\n",
       "      <td>0.0</td>\n",
       "      <td>0.0</td>\n",
       "      <td>NaN</td>\n",
       "      <td>0</td>\n",
       "    </tr>\n",
       "    <tr>\n",
       "      <th>2</th>\n",
       "      <td>10483</td>\n",
       "      <td>19761.0</td>\n",
       "      <td>NaN</td>\n",
       "      <td>170.0</td>\n",
       "      <td>75.0</td>\n",
       "      <td>120.0</td>\n",
       "      <td>NaN</td>\n",
       "      <td>NaN</td>\n",
       "      <td>Normal</td>\n",
       "      <td>0.0</td>\n",
       "      <td>0.0</td>\n",
       "      <td>1.0</td>\n",
       "      <td>1</td>\n",
       "    </tr>\n",
       "    <tr>\n",
       "      <th>3</th>\n",
       "      <td>22798</td>\n",
       "      <td>19035.0</td>\n",
       "      <td>Men</td>\n",
       "      <td>NaN</td>\n",
       "      <td>89.0</td>\n",
       "      <td>NaN</td>\n",
       "      <td>80.0</td>\n",
       "      <td>Normal</td>\n",
       "      <td>NaN</td>\n",
       "      <td>0.0</td>\n",
       "      <td>NaN</td>\n",
       "      <td>NaN</td>\n",
       "      <td>0</td>\n",
       "    </tr>\n",
       "    <tr>\n",
       "      <th>4</th>\n",
       "      <td>85542</td>\n",
       "      <td>NaN</td>\n",
       "      <td>NaN</td>\n",
       "      <td>158.0</td>\n",
       "      <td>74.0</td>\n",
       "      <td>NaN</td>\n",
       "      <td>93.0</td>\n",
       "      <td>High</td>\n",
       "      <td>NaN</td>\n",
       "      <td>0.0</td>\n",
       "      <td>1.0</td>\n",
       "      <td>1.0</td>\n",
       "      <td>1</td>\n",
       "    </tr>\n",
       "    <tr>\n",
       "      <th>...</th>\n",
       "      <td>...</td>\n",
       "      <td>...</td>\n",
       "      <td>...</td>\n",
       "      <td>...</td>\n",
       "      <td>...</td>\n",
       "      <td>...</td>\n",
       "      <td>...</td>\n",
       "      <td>...</td>\n",
       "      <td>...</td>\n",
       "      <td>...</td>\n",
       "      <td>...</td>\n",
       "      <td>...</td>\n",
       "      <td>...</td>\n",
       "    </tr>\n",
       "    <tr>\n",
       "      <th>495</th>\n",
       "      <td>74393</td>\n",
       "      <td>NaN</td>\n",
       "      <td>Women</td>\n",
       "      <td>174.0</td>\n",
       "      <td>73.0</td>\n",
       "      <td>130.0</td>\n",
       "      <td>NaN</td>\n",
       "      <td>NaN</td>\n",
       "      <td>Normal</td>\n",
       "      <td>0.0</td>\n",
       "      <td>0.0</td>\n",
       "      <td>1.0</td>\n",
       "      <td>1</td>\n",
       "    </tr>\n",
       "    <tr>\n",
       "      <th>496</th>\n",
       "      <td>38938</td>\n",
       "      <td>NaN</td>\n",
       "      <td>Men</td>\n",
       "      <td>NaN</td>\n",
       "      <td>89.0</td>\n",
       "      <td>130.0</td>\n",
       "      <td>NaN</td>\n",
       "      <td>High</td>\n",
       "      <td>Normal</td>\n",
       "      <td>0.0</td>\n",
       "      <td>0.0</td>\n",
       "      <td>NaN</td>\n",
       "      <td>1</td>\n",
       "    </tr>\n",
       "    <tr>\n",
       "      <th>497</th>\n",
       "      <td>9037</td>\n",
       "      <td>NaN</td>\n",
       "      <td>Women</td>\n",
       "      <td>180.0</td>\n",
       "      <td>84.0</td>\n",
       "      <td>NaN</td>\n",
       "      <td>NaN</td>\n",
       "      <td>Normal</td>\n",
       "      <td>Above Normal</td>\n",
       "      <td>1.0</td>\n",
       "      <td>0.0</td>\n",
       "      <td>1.0</td>\n",
       "      <td>0</td>\n",
       "    </tr>\n",
       "    <tr>\n",
       "      <th>498</th>\n",
       "      <td>27539</td>\n",
       "      <td>NaN</td>\n",
       "      <td>Women</td>\n",
       "      <td>NaN</td>\n",
       "      <td>NaN</td>\n",
       "      <td>110.0</td>\n",
       "      <td>70.0</td>\n",
       "      <td>NaN</td>\n",
       "      <td>NaN</td>\n",
       "      <td>NaN</td>\n",
       "      <td>0.0</td>\n",
       "      <td>1.0</td>\n",
       "      <td>0</td>\n",
       "    </tr>\n",
       "    <tr>\n",
       "      <th>499</th>\n",
       "      <td>13409</td>\n",
       "      <td>16698.0</td>\n",
       "      <td>Men</td>\n",
       "      <td>NaN</td>\n",
       "      <td>59.0</td>\n",
       "      <td>NaN</td>\n",
       "      <td>NaN</td>\n",
       "      <td>Normal</td>\n",
       "      <td>Normal</td>\n",
       "      <td>NaN</td>\n",
       "      <td>0.0</td>\n",
       "      <td>1.0</td>\n",
       "      <td>0</td>\n",
       "    </tr>\n",
       "  </tbody>\n",
       "</table>\n",
       "<p>500 rows × 13 columns</p>\n",
       "</div>"
      ],
      "text/plain": [
       "        id      age gender  height  weight  ap_hi  ap_lo cholesterol  \\\n",
       "0    92150  20535.0    NaN   163.0    75.0  120.0    NaN         NaN   \n",
       "1    88880  16125.0    Men   168.0    68.0  110.0   70.0         NaN   \n",
       "2    10483  19761.0    NaN   170.0    75.0  120.0    NaN         NaN   \n",
       "3    22798  19035.0    Men     NaN    89.0    NaN   80.0      Normal   \n",
       "4    85542      NaN    NaN   158.0    74.0    NaN   93.0        High   \n",
       "..     ...      ...    ...     ...     ...    ...    ...         ...   \n",
       "495  74393      NaN  Women   174.0    73.0  130.0    NaN         NaN   \n",
       "496  38938      NaN    Men     NaN    89.0  130.0    NaN        High   \n",
       "497   9037      NaN  Women   180.0    84.0    NaN    NaN      Normal   \n",
       "498  27539      NaN  Women     NaN     NaN  110.0   70.0         NaN   \n",
       "499  13409  16698.0    Men     NaN    59.0    NaN    NaN      Normal   \n",
       "\n",
       "             gluc  smoke  alco  active  cardio  \n",
       "0          Normal    0.0   0.0     1.0       0  \n",
       "1             NaN    0.0   0.0     NaN       0  \n",
       "2          Normal    0.0   0.0     1.0       1  \n",
       "3             NaN    0.0   NaN     NaN       0  \n",
       "4             NaN    0.0   1.0     1.0       1  \n",
       "..            ...    ...   ...     ...     ...  \n",
       "495        Normal    0.0   0.0     1.0       1  \n",
       "496        Normal    0.0   0.0     NaN       1  \n",
       "497  Above Normal    1.0   0.0     1.0       0  \n",
       "498           NaN    NaN   0.0     1.0       0  \n",
       "499        Normal    NaN   0.0     1.0       0  \n",
       "\n",
       "[500 rows x 13 columns]"
      ]
     },
     "execution_count": 83,
     "metadata": {},
     "output_type": "execute_result"
    }
   ],
   "source": [
    "cardio_train_data_set"
   ]
  },
  {
   "cell_type": "code",
   "execution_count": 32,
   "metadata": {},
   "outputs": [],
   "source": [
    "#Nominal\n",
    "#Categorical\n",
    "#Use dataframe.info and dataframe.describe to get the insights about the data\\\\\n"
   ]
  },
  {
   "cell_type": "code",
   "execution_count": 33,
   "metadata": {},
   "outputs": [],
   "source": [
    "#Use dataframe.info and dataframe.describe to get the insights about the data\\\\"
   ]
  },
  {
   "cell_type": "code",
   "execution_count": 84,
   "metadata": {},
   "outputs": [],
   "source": [
    "#Find the number of null values for each columns\n",
    "number_of_nulls_age = pd.isnull(cardio_train_data_set[\"age\"])\n",
    "count_of_nulls_age = get_nulls(number_of_nulls_age)\n",
    "\n",
    "number_of_nulls_gender = pd.isnull(cardio_train_data_set[\"gender\"])\n",
    "count_of_nulls_gender = get_nulls(number_of_nulls_gender)\n",
    "\n",
    "number_of_nulls_height = pd.isnull(cardio_train_data_set[\"height\"])\n",
    "count_of_nulls_height = get_nulls(number_of_nulls_height)\n",
    "\n",
    "number_of_nulls_weight = pd.isnull(cardio_train_data_set[\"weight\"])\n",
    "count_of_nulls_weight = get_nulls(number_of_nulls_weight)\n",
    "\n",
    "number_of_nulls_ap_hi = pd.isnull(cardio_train_data_set[\"ap_hi\"])\n",
    "count_of_nulls_ap_hi = get_nulls(number_of_nulls_ap_hi)\n",
    "\n",
    "number_of_nulls_ap_lo = pd.isnull(cardio_train_data_set[\"ap_lo\"])\n",
    "count_of_nulls_ap_lo = get_nulls(number_of_nulls_ap_lo)\n",
    "\n",
    "number_of_nulls_cholesterol = pd.isnull(cardio_train_data_set[\"cholesterol\"])\n",
    "count_of_nulls_cholesterol = get_nulls(number_of_nulls_cholesterol)\n",
    "\n",
    "number_of_nulls_glucose = pd.isnull(cardio_train_data_set[\"gluc\"])\n",
    "count_of_nulls_glucose = get_nulls(number_of_nulls_glucose)\n",
    "\n",
    "number_of_nulls_smoke = pd.isnull(cardio_train_data_set[\"smoke\"])\n",
    "count_of_nulls_smoke = get_nulls(number_of_nulls_smoke)\n",
    "\n",
    "number_of_nulls_alcohol = pd.isnull(cardio_train_data_set[\"alco\"])\n",
    "count_of_nulls_alcohol = get_nulls(number_of_nulls_alcohol)\n",
    "\n",
    "number_of_nulls_active = pd.isnull(cardio_train_data_set[\"active\"])\n",
    "count_of_nulls_active = get_nulls(number_of_nulls_active)\n",
    "#toDo, find amount of nans for the other columns"
   ]
  },
  {
   "cell_type": "code",
   "execution_count": 91,
   "metadata": {},
   "outputs": [
    {
     "name": "stdout",
     "output_type": "stream",
     "text": [
      "Nulls in Age:  165\n",
      "Nulls in Gender:  171\n",
      "Nulls in Height:  302\n",
      "Nulls in Weight:  164\n",
      "Nulls in AP_HI:  153\n",
      "Nulls in AP_LO:  168\n",
      "Nulls in Cholesterol:  167\n",
      "Nulls in Glucose:  167\n",
      "Nulls in Smoke:  174\n",
      "Nulls in Alcohol:  165\n",
      "Nulls in Active:  157\n"
     ]
    }
   ],
   "source": [
    "print(\"Nulls in Age: \",count_of_nulls_age)\n",
    "print(\"Nulls in Gender: \",count_of_nulls_gender)\n",
    "print(\"Nulls in Height: \",count_of_nulls_height)\n",
    "print(\"Nulls in Weight: \",count_of_nulls_weight)\n",
    "print(\"Nulls in AP_HI: \",count_of_nulls_ap_hi)\n",
    "print(\"Nulls in AP_LO: \",count_of_nulls_ap_lo)\n",
    "print(\"Nulls in Cholesterol: \",count_of_nulls_cholesterol)\n",
    "print(\"Nulls in Glucose: \",count_of_nulls_glucose)\n",
    "print(\"Nulls in Smoke: \",count_of_nulls_smoke)\n",
    "print(\"Nulls in Alcohol: \",count_of_nulls_alcohol)\n",
    "print(\"Nulls in Active: \",count_of_nulls_active)\n",
    "\n",
    "\n"
   ]
  },
  {
   "cell_type": "code",
   "execution_count": 59,
   "metadata": {},
   "outputs": [
    {
     "name": "stdout",
     "output_type": "stream",
     "text": [
      "23479.0\n",
      "14334.0\n",
      "id        51913.5\n",
      "age       19719.0\n",
      "height      165.0\n",
      "weight       72.0\n",
      "ap_hi       120.0\n",
      "ap_lo        80.0\n",
      "smoke         0.0\n",
      "alco          0.0\n",
      "active        1.0\n",
      "cardio        1.0\n",
      "dtype: float64 \n",
      " id        50279.916000\n",
      "age       19490.886567\n",
      "height      163.934343\n",
      "weight       74.347321\n",
      "ap_hi       128.685879\n",
      "ap_lo        90.060241\n",
      "smoke         0.092025\n",
      "alco          0.065672\n",
      "active        0.813411\n",
      "cardio        0.502000\n",
      "dtype: float64\n"
     ]
    }
   ],
   "source": [
    "#find oldest\n",
    "#find youngest\n",
    "oldest_person_idx = 0\n",
    "youngest_person_idx = 0\n",
    "for i in range(0, len(cardio_train_data_set[\"age\"])):\n",
    "    if cardio_train_data_set[\"age\"][i] > cardio_train_data_set[\"age\"][oldest_person_idx]:\n",
    "        oldest_person_idx = i\n",
    "        \n",
    "for i in range(0, len(cardio_train_data_set[\"age\"])):\n",
    "    if cardio_train_data_set[\"age\"][i] < cardio_train_data_set[\"age\"][youngest_person_idx]:\n",
    "        youngest_person_idx = i\n",
    "        \n",
    "print(cardio_train_data_set[\"age\"][oldest_person_idx])\n",
    "print(cardio_train_data_set[\"age\"][youngest_person_idx])\n",
    "\n",
    "\n",
    "#find median = 19719.0\n",
    "#find Average = 19490.886567\n",
    "median = cardio_train_data_set.median(axis = 0)\n",
    "mean = cardio_train_data_set.mean(axis = 0)\n",
    "\n",
    "print(median, \"\\n\", mean)\n"
   ]
  },
  {
   "cell_type": "code",
   "execution_count": 66,
   "metadata": {},
   "outputs": [
    {
     "data": {
      "text/plain": [
       "<matplotlib.collections.PathCollection at 0x7fd2df6ea8e0>"
      ]
     },
     "execution_count": 66,
     "metadata": {},
     "output_type": "execute_result"
    },
    {
     "data": {
      "image/png": "[encoded data removed]",
      "text/plain": [
       "<Figure size 432x288 with 1 Axes>"
      ]
     },
     "metadata": {
      "needs_background": "light"
     },
     "output_type": "display_data"
    }
   ],
   "source": [
    "#age vs cardio column\n",
    "plt.scatter(cardio_train_data_set[\"age\"], cardio_train_data_set[\"cardio\"])\n",
    "#not a good plot\n"
   ]
  },
  {
   "cell_type": "code",
   "execution_count": 69,
   "metadata": {},
   "outputs": [
    {
     "data": {
      "text/plain": [
       "<function matplotlib.pyplot.show(close=None, block=None)>"
      ]
     },
     "execution_count": 69,
     "metadata": {},
     "output_type": "execute_result"
    },
    {
     "data": {
      "image/png": "[encoded data removed]",
      "text/plain": [
       "<Figure size 1080x576 with 1 Axes>"
      ]
     },
     "metadata": {
      "needs_background": "light"
     },
     "output_type": "display_data"
    }
   ],
   "source": [
    "#age vs cardio\n",
    "\n",
    "plt.figure(figsize = (15,8))\n",
    "\n",
    "sns.kdeplot(\n",
    "    cardio_train_data_set.age[cardio_train_data_set[\"cardio\"] == 1],\n",
    "    color = \"darkturquoise\",\n",
    "    shade = True \n",
    ")\n",
    "sns.kdeplot(\n",
    "    cardio_train_data_set.age[cardio_train_data_set[\"cardio\"] == 0],\n",
    "    color = \"coral\",\n",
    "    shade = True \n",
    ")\n",
    "\n",
    "plt.legend([\"Survived\", \"Died\"])\n",
    "plt.show"
   ]
  },
  {
   "cell_type": "code",
   "execution_count": 82,
   "metadata": {},
   "outputs": [
    {
     "data": {
      "image/png": "[encoded data removed]",
      "text/plain": [
       "<Figure size 1440x720 with 1 Axes>"
      ]
     },
     "metadata": {
      "needs_background": "light"
     },
     "output_type": "display_data"
    }
   ],
   "source": [
    "bins = [0, 7300, 18250, 27375, 36500]\n",
    "\n",
    "out = pd.cut(\n",
    "    cardio_train_data_set.age, \n",
    "    bins = bins, \n",
    "    include_lowest = True\n",
    "\n",
    ")\n",
    "ax = out.value_counts(sort = False).plot.bar(\n",
    "    rot = 0,\n",
    "    color = \"g\",\n",
    "    figsize = (20,10)\n",
    ")\n",
    "plt.xlabel(\"age_bins\")\n",
    "plt.ylabel(\"count\")\n",
    "plt.show()"
   ]
  },
  {
   "cell_type": "code",
   "execution_count": null,
   "metadata": {},
   "outputs": [],
   "source": [
    "#At least3-4 columns that you think can play a rolein prediction (For example, systolic BP, cholesterol etc.)\n",
    "#The columns i want to use would be cholesterol, weight"
   ]
  },
  {
   "cell_type": "code",
   "execution_count": 92,
   "metadata": {},
   "outputs": [
    {
     "data": {
      "text/plain": [
       "<function matplotlib.pyplot.show(close=None, block=None)>"
      ]
     },
     "execution_count": 92,
     "metadata": {},
     "output_type": "execute_result"
    },
    {
     "data": {
      "image/png": "[encoded data removed]",
      "text/plain": [
       "<Figure size 1080x576 with 1 Axes>"
      ]
     },
     "metadata": {
      "needs_background": "light"
     },
     "output_type": "display_data"
    }
   ],
   "source": [
    "plt.figure(figsize = (15,8))\n",
    "\n",
    "sns.kdeplot(\n",
    "    cardio_train_data_set.weight[cardio_train_data_set[\"cardio\"] == 1],\n",
    "    color = \"darkturquoise\",\n",
    "    shade = True \n",
    ")\n",
    "sns.kdeplot(\n",
    "    cardio_train_data_set.weight[cardio_train_data_set[\"cardio\"] == 0],\n",
    "    color = \"coral\",\n",
    "    shade = True \n",
    ")\n",
    "\n",
    "plt.legend([\"Survived\", \"Died\"])\n",
    "plt.show"
   ]
  },
  {
   "cell_type": "code",
   "execution_count": 37,
   "metadata": {},
   "outputs": [],
   "source": [
    "def get_nulls(column_in_question):\n",
    "    count_of_nulls = 0\n",
    "    for i in range(0, len(column_in_question)):\n",
    "        if column_in_question[i] == True:\n",
    "            count_of_nulls = count_of_nulls + 1\n",
    "    return count_of_nulls"
   ]
  }
 ],
 "metadata": {
  "kernelspec": {
   "display_name": "Python 3",
   "language": "python",
   "name": "python3"
  },
  "language_info": {
   "codemirror_mode": {
    "name": "ipython",
    "version": 3
   },
   "file_extension": ".py",
   "mimetype": "text/x-python",
   "name": "python",
   "nbconvert_exporter": "python",
   "pygments_lexer": "ipython3",
   "version": "3.8.5"
  }
 },
 "nbformat": 4,
 "nbformat_minor": 4
}
