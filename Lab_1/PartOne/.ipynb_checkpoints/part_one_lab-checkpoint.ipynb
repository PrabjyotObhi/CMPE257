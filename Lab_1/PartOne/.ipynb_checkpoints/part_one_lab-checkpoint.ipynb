{
 "cells": [
  {
   "cell_type": "code",
   "execution_count": 2,
   "metadata": {},
   "outputs": [],
   "source": [
    "import pandas as pd\n",
    "import numpy as np\n",
    "import matplotlib.pyplot as plt\n",
    "import seaborn as sns\n",
    "from sklearn.preprocessing import OneHotEncoder, LabelEncoder"
   ]
  },
  {
   "cell_type": "code",
   "execution_count": 123,
   "metadata": {},
   "outputs": [],
   "source": [
    "cardio_train_data_set = pd.read_csv(\"cardio-train.csv\", sep = ';')\n",
    "cardio_test_data_set = pd.read_csv(\"cardio-test.csv\", sep = ',')"
   ]
  },
  {
   "cell_type": "code",
   "execution_count": 124,
   "metadata": {},
   "outputs": [
    {
     "data": {
      "text/html": [
       "<div>\n",
       "<style scoped>\n",
       "    .dataframe tbody tr th:only-of-type {\n",
       "        vertical-align: middle;\n",
       "    }\n",
       "\n",
       "    .dataframe tbody tr th {\n",
       "        vertical-align: top;\n",
       "    }\n",
       "\n",
       "    .dataframe thead th {\n",
       "        text-align: right;\n",
       "    }\n",
       "</style>\n",
       "<table border=\"1\" class=\"dataframe\">\n",
       "  <thead>\n",
       "    <tr style=\"text-align: right;\">\n",
       "      <th></th>\n",
       "      <th>id</th>\n",
       "      <th>age</th>\n",
       "      <th>gender</th>\n",
       "      <th>height</th>\n",
       "      <th>weight</th>\n",
       "      <th>ap_hi</th>\n",
       "      <th>ap_lo</th>\n",
       "      <th>cholesterol</th>\n",
       "      <th>gluc</th>\n",
       "      <th>smoke</th>\n",
       "      <th>alco</th>\n",
       "      <th>active</th>\n",
       "      <th>cardio</th>\n",
       "    </tr>\n",
       "  </thead>\n",
       "  <tbody>\n",
       "    <tr>\n",
       "      <th>0</th>\n",
       "      <td>92150</td>\n",
       "      <td>20535.0</td>\n",
       "      <td>NaN</td>\n",
       "      <td>163.0</td>\n",
       "      <td>75.0</td>\n",
       "      <td>120.0</td>\n",
       "      <td>NaN</td>\n",
       "      <td>NaN</td>\n",
       "      <td>Normal</td>\n",
       "      <td>0.0</td>\n",
       "      <td>0.0</td>\n",
       "      <td>1.0</td>\n",
       "      <td>0</td>\n",
       "    </tr>\n",
       "    <tr>\n",
       "      <th>1</th>\n",
       "      <td>88880</td>\n",
       "      <td>16125.0</td>\n",
       "      <td>Men</td>\n",
       "      <td>168.0</td>\n",
       "      <td>68.0</td>\n",
       "      <td>110.0</td>\n",
       "      <td>70.0</td>\n",
       "      <td>NaN</td>\n",
       "      <td>NaN</td>\n",
       "      <td>0.0</td>\n",
       "      <td>0.0</td>\n",
       "      <td>NaN</td>\n",
       "      <td>0</td>\n",
       "    </tr>\n",
       "    <tr>\n",
       "      <th>2</th>\n",
       "      <td>10483</td>\n",
       "      <td>19761.0</td>\n",
       "      <td>NaN</td>\n",
       "      <td>170.0</td>\n",
       "      <td>75.0</td>\n",
       "      <td>120.0</td>\n",
       "      <td>NaN</td>\n",
       "      <td>NaN</td>\n",
       "      <td>Normal</td>\n",
       "      <td>0.0</td>\n",
       "      <td>0.0</td>\n",
       "      <td>1.0</td>\n",
       "      <td>1</td>\n",
       "    </tr>\n",
       "    <tr>\n",
       "      <th>3</th>\n",
       "      <td>22798</td>\n",
       "      <td>19035.0</td>\n",
       "      <td>Men</td>\n",
       "      <td>NaN</td>\n",
       "      <td>89.0</td>\n",
       "      <td>NaN</td>\n",
       "      <td>80.0</td>\n",
       "      <td>Normal</td>\n",
       "      <td>NaN</td>\n",
       "      <td>0.0</td>\n",
       "      <td>NaN</td>\n",
       "      <td>NaN</td>\n",
       "      <td>0</td>\n",
       "    </tr>\n",
       "    <tr>\n",
       "      <th>4</th>\n",
       "      <td>85542</td>\n",
       "      <td>NaN</td>\n",
       "      <td>NaN</td>\n",
       "      <td>158.0</td>\n",
       "      <td>74.0</td>\n",
       "      <td>NaN</td>\n",
       "      <td>93.0</td>\n",
       "      <td>High</td>\n",
       "      <td>NaN</td>\n",
       "      <td>0.0</td>\n",
       "      <td>1.0</td>\n",
       "      <td>1.0</td>\n",
       "      <td>1</td>\n",
       "    </tr>\n",
       "    <tr>\n",
       "      <th>...</th>\n",
       "      <td>...</td>\n",
       "      <td>...</td>\n",
       "      <td>...</td>\n",
       "      <td>...</td>\n",
       "      <td>...</td>\n",
       "      <td>...</td>\n",
       "      <td>...</td>\n",
       "      <td>...</td>\n",
       "      <td>...</td>\n",
       "      <td>...</td>\n",
       "      <td>...</td>\n",
       "      <td>...</td>\n",
       "      <td>...</td>\n",
       "    </tr>\n",
       "    <tr>\n",
       "      <th>495</th>\n",
       "      <td>74393</td>\n",
       "      <td>NaN</td>\n",
       "      <td>Women</td>\n",
       "      <td>174.0</td>\n",
       "      <td>73.0</td>\n",
       "      <td>130.0</td>\n",
       "      <td>NaN</td>\n",
       "      <td>NaN</td>\n",
       "      <td>Normal</td>\n",
       "      <td>0.0</td>\n",
       "      <td>0.0</td>\n",
       "      <td>1.0</td>\n",
       "      <td>1</td>\n",
       "    </tr>\n",
       "    <tr>\n",
       "      <th>496</th>\n",
       "      <td>38938</td>\n",
       "      <td>NaN</td>\n",
       "      <td>Men</td>\n",
       "      <td>NaN</td>\n",
       "      <td>89.0</td>\n",
       "      <td>130.0</td>\n",
       "      <td>NaN</td>\n",
       "      <td>High</td>\n",
       "      <td>Normal</td>\n",
       "      <td>0.0</td>\n",
       "      <td>0.0</td>\n",
       "      <td>NaN</td>\n",
       "      <td>1</td>\n",
       "    </tr>\n",
       "    <tr>\n",
       "      <th>497</th>\n",
       "      <td>9037</td>\n",
       "      <td>NaN</td>\n",
       "      <td>Women</td>\n",
       "      <td>180.0</td>\n",
       "      <td>84.0</td>\n",
       "      <td>NaN</td>\n",
       "      <td>NaN</td>\n",
       "      <td>Normal</td>\n",
       "      <td>Above Normal</td>\n",
       "      <td>1.0</td>\n",
       "      <td>0.0</td>\n",
       "      <td>1.0</td>\n",
       "      <td>0</td>\n",
       "    </tr>\n",
       "    <tr>\n",
       "      <th>498</th>\n",
       "      <td>27539</td>\n",
       "      <td>NaN</td>\n",
       "      <td>Women</td>\n",
       "      <td>NaN</td>\n",
       "      <td>NaN</td>\n",
       "      <td>110.0</td>\n",
       "      <td>70.0</td>\n",
       "      <td>NaN</td>\n",
       "      <td>NaN</td>\n",
       "      <td>NaN</td>\n",
       "      <td>0.0</td>\n",
       "      <td>1.0</td>\n",
       "      <td>0</td>\n",
       "    </tr>\n",
       "    <tr>\n",
       "      <th>499</th>\n",
       "      <td>13409</td>\n",
       "      <td>16698.0</td>\n",
       "      <td>Men</td>\n",
       "      <td>NaN</td>\n",
       "      <td>59.0</td>\n",
       "      <td>NaN</td>\n",
       "      <td>NaN</td>\n",
       "      <td>Normal</td>\n",
       "      <td>Normal</td>\n",
       "      <td>NaN</td>\n",
       "      <td>0.0</td>\n",
       "      <td>1.0</td>\n",
       "      <td>0</td>\n",
       "    </tr>\n",
       "  </tbody>\n",
       "</table>\n",
       "<p>500 rows × 13 columns</p>\n",
       "</div>"
      ],
      "text/plain": [
       "        id      age gender  height  weight  ap_hi  ap_lo cholesterol  \\\n",
       "0    92150  20535.0    NaN   163.0    75.0  120.0    NaN         NaN   \n",
       "1    88880  16125.0    Men   168.0    68.0  110.0   70.0         NaN   \n",
       "2    10483  19761.0    NaN   170.0    75.0  120.0    NaN         NaN   \n",
       "3    22798  19035.0    Men     NaN    89.0    NaN   80.0      Normal   \n",
       "4    85542      NaN    NaN   158.0    74.0    NaN   93.0        High   \n",
       "..     ...      ...    ...     ...     ...    ...    ...         ...   \n",
       "495  74393      NaN  Women   174.0    73.0  130.0    NaN         NaN   \n",
       "496  38938      NaN    Men     NaN    89.0  130.0    NaN        High   \n",
       "497   9037      NaN  Women   180.0    84.0    NaN    NaN      Normal   \n",
       "498  27539      NaN  Women     NaN     NaN  110.0   70.0         NaN   \n",
       "499  13409  16698.0    Men     NaN    59.0    NaN    NaN      Normal   \n",
       "\n",
       "             gluc  smoke  alco  active  cardio  \n",
       "0          Normal    0.0   0.0     1.0       0  \n",
       "1             NaN    0.0   0.0     NaN       0  \n",
       "2          Normal    0.0   0.0     1.0       1  \n",
       "3             NaN    0.0   NaN     NaN       0  \n",
       "4             NaN    0.0   1.0     1.0       1  \n",
       "..            ...    ...   ...     ...     ...  \n",
       "495        Normal    0.0   0.0     1.0       1  \n",
       "496        Normal    0.0   0.0     NaN       1  \n",
       "497  Above Normal    1.0   0.0     1.0       0  \n",
       "498           NaN    NaN   0.0     1.0       0  \n",
       "499        Normal    NaN   0.0     1.0       0  \n",
       "\n",
       "[500 rows x 13 columns]"
      ]
     },
     "execution_count": 124,
     "metadata": {},
     "output_type": "execute_result"
    }
   ],
   "source": [
    "cardio_train_data_set"
   ]
  },
  {
   "cell_type": "code",
   "execution_count": 125,
   "metadata": {},
   "outputs": [],
   "source": [
    "#Make Age in years\n",
    "cardio_train_data_set[\"age\"] = cardio_train_data_set[\"age\"]/365\n"
   ]
  },
  {
   "cell_type": "code",
   "execution_count": 126,
   "metadata": {},
   "outputs": [
    {
     "data": {
      "text/html": [
       "<div>\n",
       "<style scoped>\n",
       "    .dataframe tbody tr th:only-of-type {\n",
       "        vertical-align: middle;\n",
       "    }\n",
       "\n",
       "    .dataframe tbody tr th {\n",
       "        vertical-align: top;\n",
       "    }\n",
       "\n",
       "    .dataframe thead th {\n",
       "        text-align: right;\n",
       "    }\n",
       "</style>\n",
       "<table border=\"1\" class=\"dataframe\">\n",
       "  <thead>\n",
       "    <tr style=\"text-align: right;\">\n",
       "      <th></th>\n",
       "      <th>id</th>\n",
       "      <th>age</th>\n",
       "      <th>gender</th>\n",
       "      <th>height</th>\n",
       "      <th>weight</th>\n",
       "      <th>ap_hi</th>\n",
       "      <th>ap_lo</th>\n",
       "      <th>cholesterol</th>\n",
       "      <th>gluc</th>\n",
       "      <th>smoke</th>\n",
       "      <th>alco</th>\n",
       "      <th>active</th>\n",
       "      <th>cardio</th>\n",
       "    </tr>\n",
       "  </thead>\n",
       "  <tbody>\n",
       "    <tr>\n",
       "      <th>0</th>\n",
       "      <td>92150</td>\n",
       "      <td>56.260274</td>\n",
       "      <td>NaN</td>\n",
       "      <td>163.0</td>\n",
       "      <td>75.0</td>\n",
       "      <td>120.0</td>\n",
       "      <td>NaN</td>\n",
       "      <td>NaN</td>\n",
       "      <td>Normal</td>\n",
       "      <td>0.0</td>\n",
       "      <td>0.0</td>\n",
       "      <td>1.0</td>\n",
       "      <td>0</td>\n",
       "    </tr>\n",
       "    <tr>\n",
       "      <th>1</th>\n",
       "      <td>88880</td>\n",
       "      <td>44.178082</td>\n",
       "      <td>Men</td>\n",
       "      <td>168.0</td>\n",
       "      <td>68.0</td>\n",
       "      <td>110.0</td>\n",
       "      <td>70.0</td>\n",
       "      <td>NaN</td>\n",
       "      <td>NaN</td>\n",
       "      <td>0.0</td>\n",
       "      <td>0.0</td>\n",
       "      <td>NaN</td>\n",
       "      <td>0</td>\n",
       "    </tr>\n",
       "    <tr>\n",
       "      <th>2</th>\n",
       "      <td>10483</td>\n",
       "      <td>54.139726</td>\n",
       "      <td>NaN</td>\n",
       "      <td>170.0</td>\n",
       "      <td>75.0</td>\n",
       "      <td>120.0</td>\n",
       "      <td>NaN</td>\n",
       "      <td>NaN</td>\n",
       "      <td>Normal</td>\n",
       "      <td>0.0</td>\n",
       "      <td>0.0</td>\n",
       "      <td>1.0</td>\n",
       "      <td>1</td>\n",
       "    </tr>\n",
       "    <tr>\n",
       "      <th>3</th>\n",
       "      <td>22798</td>\n",
       "      <td>52.150685</td>\n",
       "      <td>Men</td>\n",
       "      <td>NaN</td>\n",
       "      <td>89.0</td>\n",
       "      <td>NaN</td>\n",
       "      <td>80.0</td>\n",
       "      <td>Normal</td>\n",
       "      <td>NaN</td>\n",
       "      <td>0.0</td>\n",
       "      <td>NaN</td>\n",
       "      <td>NaN</td>\n",
       "      <td>0</td>\n",
       "    </tr>\n",
       "    <tr>\n",
       "      <th>4</th>\n",
       "      <td>85542</td>\n",
       "      <td>NaN</td>\n",
       "      <td>NaN</td>\n",
       "      <td>158.0</td>\n",
       "      <td>74.0</td>\n",
       "      <td>NaN</td>\n",
       "      <td>93.0</td>\n",
       "      <td>High</td>\n",
       "      <td>NaN</td>\n",
       "      <td>0.0</td>\n",
       "      <td>1.0</td>\n",
       "      <td>1.0</td>\n",
       "      <td>1</td>\n",
       "    </tr>\n",
       "    <tr>\n",
       "      <th>...</th>\n",
       "      <td>...</td>\n",
       "      <td>...</td>\n",
       "      <td>...</td>\n",
       "      <td>...</td>\n",
       "      <td>...</td>\n",
       "      <td>...</td>\n",
       "      <td>...</td>\n",
       "      <td>...</td>\n",
       "      <td>...</td>\n",
       "      <td>...</td>\n",
       "      <td>...</td>\n",
       "      <td>...</td>\n",
       "      <td>...</td>\n",
       "    </tr>\n",
       "    <tr>\n",
       "      <th>495</th>\n",
       "      <td>74393</td>\n",
       "      <td>NaN</td>\n",
       "      <td>Women</td>\n",
       "      <td>174.0</td>\n",
       "      <td>73.0</td>\n",
       "      <td>130.0</td>\n",
       "      <td>NaN</td>\n",
       "      <td>NaN</td>\n",
       "      <td>Normal</td>\n",
       "      <td>0.0</td>\n",
       "      <td>0.0</td>\n",
       "      <td>1.0</td>\n",
       "      <td>1</td>\n",
       "    </tr>\n",
       "    <tr>\n",
       "      <th>496</th>\n",
       "      <td>38938</td>\n",
       "      <td>NaN</td>\n",
       "      <td>Men</td>\n",
       "      <td>NaN</td>\n",
       "      <td>89.0</td>\n",
       "      <td>130.0</td>\n",
       "      <td>NaN</td>\n",
       "      <td>High</td>\n",
       "      <td>Normal</td>\n",
       "      <td>0.0</td>\n",
       "      <td>0.0</td>\n",
       "      <td>NaN</td>\n",
       "      <td>1</td>\n",
       "    </tr>\n",
       "    <tr>\n",
       "      <th>497</th>\n",
       "      <td>9037</td>\n",
       "      <td>NaN</td>\n",
       "      <td>Women</td>\n",
       "      <td>180.0</td>\n",
       "      <td>84.0</td>\n",
       "      <td>NaN</td>\n",
       "      <td>NaN</td>\n",
       "      <td>Normal</td>\n",
       "      <td>Above Normal</td>\n",
       "      <td>1.0</td>\n",
       "      <td>0.0</td>\n",
       "      <td>1.0</td>\n",
       "      <td>0</td>\n",
       "    </tr>\n",
       "    <tr>\n",
       "      <th>498</th>\n",
       "      <td>27539</td>\n",
       "      <td>NaN</td>\n",
       "      <td>Women</td>\n",
       "      <td>NaN</td>\n",
       "      <td>NaN</td>\n",
       "      <td>110.0</td>\n",
       "      <td>70.0</td>\n",
       "      <td>NaN</td>\n",
       "      <td>NaN</td>\n",
       "      <td>NaN</td>\n",
       "      <td>0.0</td>\n",
       "      <td>1.0</td>\n",
       "      <td>0</td>\n",
       "    </tr>\n",
       "    <tr>\n",
       "      <th>499</th>\n",
       "      <td>13409</td>\n",
       "      <td>45.747945</td>\n",
       "      <td>Men</td>\n",
       "      <td>NaN</td>\n",
       "      <td>59.0</td>\n",
       "      <td>NaN</td>\n",
       "      <td>NaN</td>\n",
       "      <td>Normal</td>\n",
       "      <td>Normal</td>\n",
       "      <td>NaN</td>\n",
       "      <td>0.0</td>\n",
       "      <td>1.0</td>\n",
       "      <td>0</td>\n",
       "    </tr>\n",
       "  </tbody>\n",
       "</table>\n",
       "<p>500 rows × 13 columns</p>\n",
       "</div>"
      ],
      "text/plain": [
       "        id        age gender  height  weight  ap_hi  ap_lo cholesterol  \\\n",
       "0    92150  56.260274    NaN   163.0    75.0  120.0    NaN         NaN   \n",
       "1    88880  44.178082    Men   168.0    68.0  110.0   70.0         NaN   \n",
       "2    10483  54.139726    NaN   170.0    75.0  120.0    NaN         NaN   \n",
       "3    22798  52.150685    Men     NaN    89.0    NaN   80.0      Normal   \n",
       "4    85542        NaN    NaN   158.0    74.0    NaN   93.0        High   \n",
       "..     ...        ...    ...     ...     ...    ...    ...         ...   \n",
       "495  74393        NaN  Women   174.0    73.0  130.0    NaN         NaN   \n",
       "496  38938        NaN    Men     NaN    89.0  130.0    NaN        High   \n",
       "497   9037        NaN  Women   180.0    84.0    NaN    NaN      Normal   \n",
       "498  27539        NaN  Women     NaN     NaN  110.0   70.0         NaN   \n",
       "499  13409  45.747945    Men     NaN    59.0    NaN    NaN      Normal   \n",
       "\n",
       "             gluc  smoke  alco  active  cardio  \n",
       "0          Normal    0.0   0.0     1.0       0  \n",
       "1             NaN    0.0   0.0     NaN       0  \n",
       "2          Normal    0.0   0.0     1.0       1  \n",
       "3             NaN    0.0   NaN     NaN       0  \n",
       "4             NaN    0.0   1.0     1.0       1  \n",
       "..            ...    ...   ...     ...     ...  \n",
       "495        Normal    0.0   0.0     1.0       1  \n",
       "496        Normal    0.0   0.0     NaN       1  \n",
       "497  Above Normal    1.0   0.0     1.0       0  \n",
       "498           NaN    NaN   0.0     1.0       0  \n",
       "499        Normal    NaN   0.0     1.0       0  \n",
       "\n",
       "[500 rows x 13 columns]"
      ]
     },
     "execution_count": 126,
     "metadata": {},
     "output_type": "execute_result"
    }
   ],
   "source": [
    "cardio_train_data_set"
   ]
  },
  {
   "cell_type": "code",
   "execution_count": 116,
   "metadata": {},
   "outputs": [
    {
     "data": {
      "text/plain": [
       "id             False\n",
       "age            False\n",
       "gender          True\n",
       "height         False\n",
       "weight         False\n",
       "ap_hi          False\n",
       "ap_lo          False\n",
       "cholesterol     True\n",
       "gluc            True\n",
       "smoke          False\n",
       "alco           False\n",
       "active         False\n",
       "cardio         False\n",
       "dtype: bool"
      ]
     },
     "execution_count": 116,
     "metadata": {},
     "output_type": "execute_result"
    }
   ],
   "source": [
    "#Nominal\n",
    "#Categorical\n",
    "cardio_train_data_set.dtypes == \"object\"\n",
    "#Gender, cholesterol, and glucose are categorical variables"
   ]
  },
  {
   "cell_type": "code",
   "execution_count": 6,
   "metadata": {
    "collapsed": true
   },
   "outputs": [
    {
     "data": {
      "text/plain": [
       "id               int64\n",
       "age            float64\n",
       "gender          object\n",
       "height         float64\n",
       "weight         float64\n",
       "ap_hi          float64\n",
       "ap_lo          float64\n",
       "cholesterol     object\n",
       "gluc            object\n",
       "smoke          float64\n",
       "alco           float64\n",
       "active         float64\n",
       "cardio           int64\n",
       "dtype: object"
      ]
     },
     "execution_count": 6,
     "metadata": {},
     "output_type": "execute_result"
    }
   ],
   "source": [
    "cardio_train_data_set.dtypes"
   ]
  },
  {
   "cell_type": "code",
   "execution_count": 7,
   "metadata": {
    "collapsed": true
   },
   "outputs": [
    {
     "data": {
      "text/plain": [
       "<bound method DataFrame.info of         id      age gender  height  weight  ap_hi  ap_lo cholesterol  \\\n",
       "0    92150  20535.0    NaN   163.0    75.0  120.0    NaN         NaN   \n",
       "1    88880  16125.0    Men   168.0    68.0  110.0   70.0         NaN   \n",
       "2    10483  19761.0    NaN   170.0    75.0  120.0    NaN         NaN   \n",
       "3    22798  19035.0    Men     NaN    89.0    NaN   80.0      Normal   \n",
       "4    85542      NaN    NaN   158.0    74.0    NaN   93.0        High   \n",
       "..     ...      ...    ...     ...     ...    ...    ...         ...   \n",
       "495  74393      NaN  Women   174.0    73.0  130.0    NaN         NaN   \n",
       "496  38938      NaN    Men     NaN    89.0  130.0    NaN        High   \n",
       "497   9037      NaN  Women   180.0    84.0    NaN    NaN      Normal   \n",
       "498  27539      NaN  Women     NaN     NaN  110.0   70.0         NaN   \n",
       "499  13409  16698.0    Men     NaN    59.0    NaN    NaN      Normal   \n",
       "\n",
       "             gluc  smoke  alco  active  cardio  \n",
       "0          Normal    0.0   0.0     1.0       0  \n",
       "1             NaN    0.0   0.0     NaN       0  \n",
       "2          Normal    0.0   0.0     1.0       1  \n",
       "3             NaN    0.0   NaN     NaN       0  \n",
       "4             NaN    0.0   1.0     1.0       1  \n",
       "..            ...    ...   ...     ...     ...  \n",
       "495        Normal    0.0   0.0     1.0       1  \n",
       "496        Normal    0.0   0.0     NaN       1  \n",
       "497  Above Normal    1.0   0.0     1.0       0  \n",
       "498           NaN    NaN   0.0     1.0       0  \n",
       "499        Normal    NaN   0.0     1.0       0  \n",
       "\n",
       "[500 rows x 13 columns]>"
      ]
     },
     "execution_count": 7,
     "metadata": {},
     "output_type": "execute_result"
    }
   ],
   "source": [
    "#Use dataframe.info and dataframe.describe to get the insights about the data\n",
    "cardio_train_data_set.info\n"
   ]
  },
  {
   "cell_type": "code",
   "execution_count": 127,
   "metadata": {},
   "outputs": [],
   "source": [
    "def get_nulls(column_in_question):\n",
    "    count_of_nulls = 0\n",
    "    for i in range(0, len(column_in_question)):\n",
    "        if column_in_question[i] == True:\n",
    "            count_of_nulls = count_of_nulls + 1\n",
    "    return count_of_nulls"
   ]
  },
  {
   "cell_type": "code",
   "execution_count": 128,
   "metadata": {},
   "outputs": [],
   "source": [
    "#Find the number of null values for each columns\n",
    "number_of_nulls_age = pd.isnull(cardio_train_data_set[\"age\"])\n",
    "count_of_nulls_age = get_nulls(number_of_nulls_age)\n",
    "\n",
    "number_of_nulls_gender = pd.isnull(cardio_train_data_set[\"gender\"])\n",
    "count_of_nulls_gender = get_nulls(number_of_nulls_gender)\n",
    "\n",
    "number_of_nulls_height = pd.isnull(cardio_train_data_set[\"height\"])\n",
    "count_of_nulls_height = get_nulls(number_of_nulls_height)\n",
    "\n",
    "number_of_nulls_weight = pd.isnull(cardio_train_data_set[\"weight\"])\n",
    "count_of_nulls_weight = get_nulls(number_of_nulls_weight)\n",
    "\n",
    "number_of_nulls_ap_hi = pd.isnull(cardio_train_data_set[\"ap_hi\"])\n",
    "count_of_nulls_ap_hi = get_nulls(number_of_nulls_ap_hi)\n",
    "\n",
    "number_of_nulls_ap_lo = pd.isnull(cardio_train_data_set[\"ap_lo\"])\n",
    "count_of_nulls_ap_lo = get_nulls(number_of_nulls_ap_lo)\n",
    "\n",
    "number_of_nulls_cholesterol = pd.isnull(cardio_train_data_set[\"cholesterol\"])\n",
    "count_of_nulls_cholesterol = get_nulls(number_of_nulls_cholesterol)\n",
    "\n",
    "number_of_nulls_glucose = pd.isnull(cardio_train_data_set[\"gluc\"])\n",
    "count_of_nulls_glucose = get_nulls(number_of_nulls_glucose)\n",
    "\n",
    "number_of_nulls_smoke = pd.isnull(cardio_train_data_set[\"smoke\"])\n",
    "count_of_nulls_smoke = get_nulls(number_of_nulls_smoke)\n",
    "\n",
    "number_of_nulls_alcohol = pd.isnull(cardio_train_data_set[\"alco\"])\n",
    "count_of_nulls_alcohol = get_nulls(number_of_nulls_alcohol)\n",
    "\n",
    "number_of_nulls_active = pd.isnull(cardio_train_data_set[\"active\"])\n",
    "count_of_nulls_active = get_nulls(number_of_nulls_active)\n",
    "#toDo, find amount of nans for the other columns"
   ]
  },
  {
   "cell_type": "code",
   "execution_count": 10,
   "metadata": {},
   "outputs": [
    {
     "name": "stdout",
     "output_type": "stream",
     "text": [
      "Nulls in Age:  165\n",
      "Nulls in Gender:  171\n",
      "Nulls in Height:  302\n",
      "Nulls in Weight:  164\n",
      "Nulls in AP_HI:  153\n",
      "Nulls in AP_LO:  168\n",
      "Nulls in Cholesterol:  167\n",
      "Nulls in Glucose:  167\n",
      "Nulls in Smoke:  174\n",
      "Nulls in Alcohol:  165\n",
      "Nulls in Active:  157\n"
     ]
    }
   ],
   "source": [
    "print(\"Nulls in Age: \",count_of_nulls_age)\n",
    "print(\"Nulls in Gender: \",count_of_nulls_gender)\n",
    "print(\"Nulls in Height: \",count_of_nulls_height)\n",
    "print(\"Nulls in Weight: \",count_of_nulls_weight)\n",
    "print(\"Nulls in AP_HI: \",count_of_nulls_ap_hi)\n",
    "print(\"Nulls in AP_LO: \",count_of_nulls_ap_lo)\n",
    "print(\"Nulls in Cholesterol: \",count_of_nulls_cholesterol)\n",
    "print(\"Nulls in Glucose: \",count_of_nulls_glucose)\n",
    "print(\"Nulls in Smoke: \",count_of_nulls_smoke)\n",
    "print(\"Nulls in Alcohol: \",count_of_nulls_alcohol)\n",
    "print(\"Nulls in Active: \",count_of_nulls_active)"
   ]
  },
  {
   "cell_type": "code",
   "execution_count": 129,
   "metadata": {},
   "outputs": [
    {
     "name": "stdout",
     "output_type": "stream",
     "text": [
      "64.32602739726028\n",
      "39.271232876712325\n",
      "id        51913.500000\n",
      "age          54.024658\n",
      "height      165.000000\n",
      "weight       72.000000\n",
      "ap_hi       120.000000\n",
      "ap_lo        80.000000\n",
      "smoke         0.000000\n",
      "alco          0.000000\n",
      "active        1.000000\n",
      "cardio        1.000000\n",
      "dtype: float64 \n",
      " id        50279.916000\n",
      "age          53.399689\n",
      "height      163.934343\n",
      "weight       74.347321\n",
      "ap_hi       128.685879\n",
      "ap_lo        90.060241\n",
      "smoke         0.092025\n",
      "alco          0.065672\n",
      "active        0.813411\n",
      "cardio        0.502000\n",
      "dtype: float64\n"
     ]
    }
   ],
   "source": [
    "#find oldest\n",
    "#find youngest\n",
    "oldest_person_idx = 0\n",
    "youngest_person_idx = 0\n",
    "for i in range(0, len(cardio_train_data_set[\"age\"])):\n",
    "    if cardio_train_data_set[\"age\"][i] > cardio_train_data_set[\"age\"][oldest_person_idx]:\n",
    "        oldest_person_idx = i\n",
    "        \n",
    "for i in range(0, len(cardio_train_data_set[\"age\"])):\n",
    "    if cardio_train_data_set[\"age\"][i] < cardio_train_data_set[\"age\"][youngest_person_idx]:\n",
    "        youngest_person_idx = i\n",
    "        \n",
    "print(cardio_train_data_set[\"age\"][oldest_person_idx])\n",
    "print(cardio_train_data_set[\"age\"][youngest_person_idx])\n",
    "\n",
    "\n",
    "#find median = 19719.0 --> 54\n",
    "#find Average = 19490.886567 -->53\n",
    "median = cardio_train_data_set.median(axis = 0)\n",
    "mean = cardio_train_data_set.mean(axis = 0)\n",
    "\n",
    "print(median, \"\\n\", mean)\n"
   ]
  },
  {
   "cell_type": "code",
   "execution_count": 130,
   "metadata": {},
   "outputs": [
    {
     "data": {
      "text/plain": [
       "<matplotlib.collections.PathCollection at 0x7f82972d84f0>"
      ]
     },
     "execution_count": 130,
     "metadata": {},
     "output_type": "execute_result"
    },
    {
     "data": {
      "image/png": "[encoded data removed]",
      "text/plain": [
       "<Figure size 432x288 with 1 Axes>"
      ]
     },
     "metadata": {
      "needs_background": "light"
     },
     "output_type": "display_data"
    }
   ],
   "source": [
    "#age vs cardio column\n",
    "plt.scatter(cardio_train_data_set[\"age\"], cardio_train_data_set[\"cardio\"])\n",
    "#not a good plot\n"
   ]
  },
  {
   "cell_type": "code",
   "execution_count": 131,
   "metadata": {},
   "outputs": [
    {
     "data": {
      "text/plain": [
       "<function matplotlib.pyplot.show(close=None, block=None)>"
      ]
     },
     "execution_count": 131,
     "metadata": {},
     "output_type": "execute_result"
    },
    {
     "data": {
      "image/png": "[encoded data removed]",
      "text/plain": [
       "<Figure size 1080x576 with 1 Axes>"
      ]
     },
     "metadata": {
      "needs_background": "light"
     },
     "output_type": "display_data"
    }
   ],
   "source": [
    "#age vs cardio\n",
    "\n",
    "plt.figure(figsize = (15,8))\n",
    "\n",
    "sns.kdeplot(\n",
    "    cardio_train_data_set.age[cardio_train_data_set[\"cardio\"] == 1],\n",
    "    color = \"darkturquoise\",\n",
    "    shade = True \n",
    ")\n",
    "sns.kdeplot(\n",
    "    cardio_train_data_set.age[cardio_train_data_set[\"cardio\"] == 0],\n",
    "    color = \"coral\",\n",
    "    shade = True \n",
    ")\n",
    "\n",
    "plt.legend([\"Survived\", \"Died\"])\n",
    "plt.show"
   ]
  },
  {
   "cell_type": "code",
   "execution_count": 133,
   "metadata": {},
   "outputs": [
    {
     "data": {
      "image/png": "[encoded data removed]",
      "text/plain": [
       "<Figure size 1440x720 with 1 Axes>"
      ]
     },
     "metadata": {
      "needs_background": "light"
     },
     "output_type": "display_data"
    }
   ],
   "source": [
    "bins = [0, 20, 50, 75, 100]\n",
    "\n",
    "out = pd.cut(\n",
    "    cardio_train_data_set.age, \n",
    "    bins = bins, \n",
    "    include_lowest = True\n",
    "\n",
    ")\n",
    "ax = out.value_counts(sort = False).plot.bar(\n",
    "    rot = 0,\n",
    "    color = \"g\",\n",
    "    figsize = (20,10)\n",
    ")\n",
    "plt.xlabel(\"age_bins\")\n",
    "plt.ylabel(\"count\")\n",
    "plt.show()"
   ]
  },
  {
   "cell_type": "code",
   "execution_count": null,
   "metadata": {},
   "outputs": [],
   "source": []
  },
  {
   "cell_type": "raw",
   "metadata": {},
   "source": [
    "#At least 3-4 columns that you think can play a rolein prediction (For example, systolic BP, cholesterol etc.)\n",
    "#The columns i want to use would be weight, height, and alcohol"
   ]
  },
  {
   "cell_type": "code",
   "execution_count": 18,
   "metadata": {},
   "outputs": [
    {
     "data": {
      "text/plain": [
       "<function matplotlib.pyplot.show(close=None, block=None)>"
      ]
     },
     "execution_count": 18,
     "metadata": {},
     "output_type": "execute_result"
    },
    {
     "data": {
      "image/png": "[encoded data removed]",
      "text/plain": [
       "<Figure size 1080x576 with 1 Axes>"
      ]
     },
     "metadata": {
      "needs_background": "light"
     },
     "output_type": "display_data"
    }
   ],
   "source": [
    "plt.figure(figsize = (15,8))\n",
    "\n",
    "sns.kdeplot(\n",
    "    cardio_train_data_set.weight[cardio_train_data_set[\"cardio\"] == 1],\n",
    "    color = \"darkturquoise\",\n",
    "    shade = True \n",
    ")\n",
    "sns.kdeplot(\n",
    "    cardio_train_data_set.weight[cardio_train_data_set[\"cardio\"] == 0],\n",
    "    color = \"coral\",\n",
    "    shade = True \n",
    ")\n",
    "\n",
    "plt.legend([\"Survived\", \"Died\"])\n",
    "plt.show"
   ]
  },
  {
   "cell_type": "code",
   "execution_count": 19,
   "metadata": {},
   "outputs": [
    {
     "data": {
      "text/plain": [
       "<function matplotlib.pyplot.show(close=None, block=None)>"
      ]
     },
     "execution_count": 19,
     "metadata": {},
     "output_type": "execute_result"
    },
    {
     "data": {
      "image/png": "[encoded data removed]",
      "text/plain": [
       "<Figure size 1080x576 with 1 Axes>"
      ]
     },
     "metadata": {
      "needs_background": "light"
     },
     "output_type": "display_data"
    }
   ],
   "source": [
    "plt.figure(figsize = (15,8))\n",
    "\n",
    "sns.kdeplot(\n",
    "    cardio_train_data_set.height[cardio_train_data_set[\"cardio\"] == 1],\n",
    "    color = \"darkturquoise\",\n",
    "    shade = True \n",
    ")\n",
    "sns.kdeplot(\n",
    "    cardio_train_data_set.height[cardio_train_data_set[\"cardio\"] == 0],\n",
    "    color = \"coral\",\n",
    "    shade = True \n",
    ")\n",
    "\n",
    "plt.legend([\"Survived\", \"Died\"])\n",
    "plt.show"
   ]
  },
  {
   "cell_type": "code",
   "execution_count": 20,
   "metadata": {},
   "outputs": [
    {
     "data": {
      "text/plain": [
       "<function matplotlib.pyplot.show(close=None, block=None)>"
      ]
     },
     "execution_count": 20,
     "metadata": {},
     "output_type": "execute_result"
    },
    {
     "data": {
      "image/png": "[encoded data removed]",
      "text/plain": [
       "<Figure size 1080x576 with 1 Axes>"
      ]
     },
     "metadata": {
      "needs_background": "light"
     },
     "output_type": "display_data"
    }
   ],
   "source": [
    "plt.figure(figsize = (15,8))\n",
    "\n",
    "sns.kdeplot(\n",
    "    cardio_train_data_set.alco[cardio_train_data_set[\"cardio\"] == 1],\n",
    "    color = \"darkturquoise\",\n",
    "    shade = True \n",
    ")\n",
    "sns.kdeplot(\n",
    "    cardio_train_data_set.alco[cardio_train_data_set[\"cardio\"] == 0],\n",
    "    color = \"coral\",\n",
    "    shade = True \n",
    ")\n",
    "\n",
    "plt.legend([\"Survived\", \"Died\"])\n",
    "plt.show"
   ]
  },
  {
   "cell_type": "code",
   "execution_count": 134,
   "metadata": {},
   "outputs": [
    {
     "data": {
      "image/png": "[encoded data removed]",
      "text/plain": [
       "<Figure size 1008x720 with 2 Axes>"
      ]
     },
     "metadata": {
      "needs_background": "light"
     },
     "output_type": "display_data"
    }
   ],
   "source": [
    "#Make plot bigger\n",
    "corrs = cardio_train_data_set.corr()\n",
    "plt.figure(figsize = (14, 10))\n",
    "sns.heatmap(corrs, annot = True, vmin = -1, vmax = 1, fmt = '.4f', cmap=plt.cm.PiYG_r);"
   ]
  },
  {
   "cell_type": "code",
   "execution_count": 136,
   "metadata": {},
   "outputs": [
    {
     "data": {
      "image/png": "[encoded data removed]",
      "text/plain": [
       "<Figure size 432x288 with 1 Axes>"
      ]
     },
     "metadata": {
      "needs_background": "light"
     },
     "output_type": "display_data"
    }
   ],
   "source": [
    "#figure out scatter plot\n",
    "plt.scatter(cardio_train_data_set[\"age\"], cardio_train_data_set[\"cardio\"])\n",
    "plt.ylabel(\"Cardio\")\n",
    "plt.xlabel(\"Age\")\n",
    "plt.show()\n"
   ]
  },
  {
   "cell_type": "code",
   "execution_count": 137,
   "metadata": {},
   "outputs": [
    {
     "data": {
      "image/png": "[encoded data removed]",
      "text/plain": [
       "<Figure size 432x288 with 1 Axes>"
      ]
     },
     "metadata": {
      "needs_background": "light"
     },
     "output_type": "display_data"
    }
   ],
   "source": [
    "plt.scatter(cardio_train_data_set[\"height\"], cardio_train_data_set[\"cardio\"])\n",
    "plt.ylabel(\"Cardio\")\n",
    "plt.xlabel(\"Height\")\n",
    "plt.show()"
   ]
  },
  {
   "cell_type": "code",
   "execution_count": 146,
   "metadata": {},
   "outputs": [
    {
     "data": {
      "image/png": "[encoded data removed]",
      "text/plain": [
       "<Figure size 432x288 with 1 Axes>"
      ]
     },
     "metadata": {
      "needs_background": "light"
     },
     "output_type": "display_data"
    }
   ],
   "source": [
    "plt.scatter(cardio_train_data_set[\"weight\"], cardio_train_data_set[\"cardio\"])\n",
    "plt.ylabel(\"Cardio\")\n",
    "plt.xlabel(\"Weight\")\n",
    "plt.show()"
   ]
  },
  {
   "cell_type": "code",
   "execution_count": 144,
   "metadata": {},
   "outputs": [
    {
     "data": {
      "image/png": "[encoded data removed]",
      "text/plain": [
       "<Figure size 432x288 with 1 Axes>"
      ]
     },
     "metadata": {
      "needs_background": "light"
     },
     "output_type": "display_data"
    }
   ],
   "source": [
    "plt.scatter(cardio_train_data_set[\"ap_hi\"], cardio_train_data_set[\"cardio\"])\n",
    "plt.ylabel(\"Cardio\")\n",
    "plt.xlabel(\"AP_HI\")\n",
    "plt.show()"
   ]
  },
  {
   "cell_type": "code",
   "execution_count": 145,
   "metadata": {},
   "outputs": [
    {
     "data": {
      "image/png": "[encoded data removed]",
      "text/plain": [
       "<Figure size 432x288 with 1 Axes>"
      ]
     },
     "metadata": {
      "needs_background": "light"
     },
     "output_type": "display_data"
    }
   ],
   "source": [
    "plt.scatter(cardio_train_data_set[\"ap_lo\"], cardio_train_data_set[\"cardio\"])\n",
    "plt.ylabel(\"Cardio\")\n",
    "plt.xlabel(\"AP_LO\")\n",
    "plt.show()"
   ]
  },
  {
   "cell_type": "code",
   "execution_count": 147,
   "metadata": {},
   "outputs": [
    {
     "data": {
      "image/png": "[encoded data removed]",
      "text/plain": [
       "<Figure size 432x288 with 1 Axes>"
      ]
     },
     "metadata": {
      "needs_background": "light"
     },
     "output_type": "display_data"
    }
   ],
   "source": [
    "plt.scatter(cardio_train_data_set[\"smoke\"], cardio_train_data_set[\"cardio\"])\n",
    "plt.ylabel(\"Cardio\")\n",
    "plt.xlabel(\"smoke\")\n",
    "plt.show()"
   ]
  },
  {
   "cell_type": "code",
   "execution_count": 149,
   "metadata": {},
   "outputs": [
    {
     "data": {
      "image/png": "[encoded data removed]",
      "text/plain": [
       "<Figure size 432x288 with 1 Axes>"
      ]
     },
     "metadata": {
      "needs_background": "light"
     },
     "output_type": "display_data"
    }
   ],
   "source": [
    "plt.scatter(cardio_train_data_set[\"alco\"], cardio_train_data_set[\"cardio\"])\n",
    "plt.ylabel(\"Cardio\")\n",
    "plt.xlabel(\"Alcohol\")\n",
    "plt.show()"
   ]
  },
  {
   "cell_type": "code",
   "execution_count": 150,
   "metadata": {},
   "outputs": [
    {
     "data": {
      "image/png": "[encoded data removed]",
      "text/plain": [
       "<Figure size 432x288 with 1 Axes>"
      ]
     },
     "metadata": {
      "needs_background": "light"
     },
     "output_type": "display_data"
    }
   ],
   "source": [
    "plt.scatter(cardio_train_data_set[\"active\"], cardio_train_data_set[\"cardio\"])\n",
    "plt.ylabel(\"Cardio\")\n",
    "plt.xlabel(\"Active\")\n",
    "plt.show()"
   ]
  },
  {
   "cell_type": "code",
   "execution_count": 154,
   "metadata": {},
   "outputs": [
    {
     "data": {
      "text/plain": [
       "<AxesSubplot:xlabel='age', ylabel='Count'>"
      ]
     },
     "execution_count": 154,
     "metadata": {},
     "output_type": "execute_result"
    },
    {
     "data": {
      "image/png": "[encoded data removed]",
      "text/plain": [
       "<Figure size 432x288 with 1 Axes>"
      ]
     },
     "metadata": {
      "needs_background": "light"
     },
     "output_type": "display_data"
    }
   ],
   "source": [
    "#per column distribution\n",
    "sns.histplot(data=cardio_train_data_set['age'])\n"
   ]
  },
  {
   "cell_type": "code",
   "execution_count": 155,
   "metadata": {},
   "outputs": [
    {
     "data": {
      "text/plain": [
       "<AxesSubplot:xlabel='height', ylabel='Count'>"
      ]
     },
     "execution_count": 155,
     "metadata": {},
     "output_type": "execute_result"
    },
    {
     "data": {
      "image/png": "[encoded data removed]",
      "text/plain": [
       "<Figure size 432x288 with 1 Axes>"
      ]
     },
     "metadata": {
      "needs_background": "light"
     },
     "output_type": "display_data"
    }
   ],
   "source": [
    "sns.histplot(data=cardio_train_data_set['height'])"
   ]
  },
  {
   "cell_type": "code",
   "execution_count": 156,
   "metadata": {},
   "outputs": [
    {
     "data": {
      "text/plain": [
       "<AxesSubplot:xlabel='weight', ylabel='Count'>"
      ]
     },
     "execution_count": 156,
     "metadata": {},
     "output_type": "execute_result"
    },
    {
     "data": {
      "image/png": "[encoded data removed]",
      "text/plain": [
       "<Figure size 432x288 with 1 Axes>"
      ]
     },
     "metadata": {
      "needs_background": "light"
     },
     "output_type": "display_data"
    }
   ],
   "source": [
    "sns.histplot(data=cardio_train_data_set['weight'])\n"
   ]
  },
  {
   "cell_type": "code",
   "execution_count": 157,
   "metadata": {},
   "outputs": [
    {
     "data": {
      "text/plain": [
       "<AxesSubplot:xlabel='ap_hi', ylabel='Count'>"
      ]
     },
     "execution_count": 157,
     "metadata": {},
     "output_type": "execute_result"
    },
    {
     "data": {
      "image/png": "[encoded data removed]",
      "text/plain": [
       "<Figure size 432x288 with 1 Axes>"
      ]
     },
     "metadata": {
      "needs_background": "light"
     },
     "output_type": "display_data"
    }
   ],
   "source": [
    "sns.histplot(data=cardio_train_data_set['ap_hi'])\n"
   ]
  },
  {
   "cell_type": "code",
   "execution_count": 158,
   "metadata": {},
   "outputs": [
    {
     "data": {
      "text/plain": [
       "<AxesSubplot:xlabel='ap_lo', ylabel='Count'>"
      ]
     },
     "execution_count": 158,
     "metadata": {},
     "output_type": "execute_result"
    },
    {
     "data": {
      "image/png": "[encoded data removed]",
      "text/plain": [
       "<Figure size 432x288 with 1 Axes>"
      ]
     },
     "metadata": {
      "needs_background": "light"
     },
     "output_type": "display_data"
    }
   ],
   "source": [
    "sns.histplot(data=cardio_train_data_set['ap_lo'])"
   ]
  },
  {
   "cell_type": "code",
   "execution_count": 159,
   "metadata": {},
   "outputs": [
    {
     "data": {
      "text/plain": [
       "<AxesSubplot:xlabel='smoke', ylabel='Count'>"
      ]
     },
     "execution_count": 159,
     "metadata": {},
     "output_type": "execute_result"
    },
    {
     "data": {
      "image/png": "[encoded data removed]",
      "text/plain": [
       "<Figure size 432x288 with 1 Axes>"
      ]
     },
     "metadata": {
      "needs_background": "light"
     },
     "output_type": "display_data"
    }
   ],
   "source": [
    "sns.histplot(data=cardio_train_data_set['smoke'])\n"
   ]
  },
  {
   "cell_type": "code",
   "execution_count": 160,
   "metadata": {},
   "outputs": [
    {
     "data": {
      "text/plain": [
       "<AxesSubplot:xlabel='alco', ylabel='Count'>"
      ]
     },
     "execution_count": 160,
     "metadata": {},
     "output_type": "execute_result"
    },
    {
     "data": {
      "image/png": "[encoded data removed]",
      "text/plain": [
       "<Figure size 432x288 with 1 Axes>"
      ]
     },
     "metadata": {
      "needs_background": "light"
     },
     "output_type": "display_data"
    }
   ],
   "source": [
    "sns.histplot(data=cardio_train_data_set['alco'])"
   ]
  },
  {
   "cell_type": "code",
   "execution_count": 162,
   "metadata": {},
   "outputs": [
    {
     "data": {
      "text/plain": [
       "<AxesSubplot:xlabel='active', ylabel='Count'>"
      ]
     },
     "execution_count": 162,
     "metadata": {},
     "output_type": "execute_result"
    },
    {
     "data": {
      "image/png": "[encoded data removed]",
      "text/plain": [
       "<Figure size 432x288 with 1 Axes>"
      ]
     },
     "metadata": {
      "needs_background": "light"
     },
     "output_type": "display_data"
    }
   ],
   "source": [
    "sns.histplot(data=cardio_train_data_set['active'])\n"
   ]
  },
  {
   "cell_type": "code",
   "execution_count": 25,
   "metadata": {},
   "outputs": [
    {
     "name": "stdout",
     "output_type": "stream",
     "text": [
      "Length of cardio train dataset using dropna 7\n"
     ]
    },
    {
     "data": {
      "text/html": [
       "<div>\n",
       "<style scoped>\n",
       "    .dataframe tbody tr th:only-of-type {\n",
       "        vertical-align: middle;\n",
       "    }\n",
       "\n",
       "    .dataframe tbody tr th {\n",
       "        vertical-align: top;\n",
       "    }\n",
       "\n",
       "    .dataframe thead th {\n",
       "        text-align: right;\n",
       "    }\n",
       "</style>\n",
       "<table border=\"1\" class=\"dataframe\">\n",
       "  <thead>\n",
       "    <tr style=\"text-align: right;\">\n",
       "      <th></th>\n",
       "      <th>id</th>\n",
       "      <th>age</th>\n",
       "      <th>gender</th>\n",
       "      <th>height</th>\n",
       "      <th>weight</th>\n",
       "      <th>ap_hi</th>\n",
       "      <th>ap_lo</th>\n",
       "      <th>cholesterol</th>\n",
       "      <th>gluc</th>\n",
       "      <th>smoke</th>\n",
       "      <th>alco</th>\n",
       "      <th>active</th>\n",
       "      <th>cardio</th>\n",
       "    </tr>\n",
       "  </thead>\n",
       "  <tbody>\n",
       "    <tr>\n",
       "      <th>90</th>\n",
       "      <td>25306</td>\n",
       "      <td>17500.0</td>\n",
       "      <td>Women</td>\n",
       "      <td>160.0</td>\n",
       "      <td>62.0</td>\n",
       "      <td>120.0</td>\n",
       "      <td>80.0</td>\n",
       "      <td>Normal</td>\n",
       "      <td>Normal</td>\n",
       "      <td>0.0</td>\n",
       "      <td>0.0</td>\n",
       "      <td>1.0</td>\n",
       "      <td>0</td>\n",
       "    </tr>\n",
       "    <tr>\n",
       "      <th>146</th>\n",
       "      <td>91154</td>\n",
       "      <td>19802.0</td>\n",
       "      <td>Men</td>\n",
       "      <td>162.0</td>\n",
       "      <td>72.0</td>\n",
       "      <td>120.0</td>\n",
       "      <td>80.0</td>\n",
       "      <td>Normal</td>\n",
       "      <td>Normal</td>\n",
       "      <td>0.0</td>\n",
       "      <td>0.0</td>\n",
       "      <td>1.0</td>\n",
       "      <td>1</td>\n",
       "    </tr>\n",
       "    <tr>\n",
       "      <th>166</th>\n",
       "      <td>69120</td>\n",
       "      <td>14553.0</td>\n",
       "      <td>Men</td>\n",
       "      <td>157.0</td>\n",
       "      <td>60.0</td>\n",
       "      <td>110.0</td>\n",
       "      <td>75.0</td>\n",
       "      <td>Normal</td>\n",
       "      <td>Above Normal</td>\n",
       "      <td>0.0</td>\n",
       "      <td>0.0</td>\n",
       "      <td>0.0</td>\n",
       "      <td>1</td>\n",
       "    </tr>\n",
       "    <tr>\n",
       "      <th>187</th>\n",
       "      <td>68932</td>\n",
       "      <td>20482.0</td>\n",
       "      <td>Women</td>\n",
       "      <td>169.0</td>\n",
       "      <td>64.0</td>\n",
       "      <td>120.0</td>\n",
       "      <td>80.0</td>\n",
       "      <td>Normal</td>\n",
       "      <td>Normal</td>\n",
       "      <td>0.0</td>\n",
       "      <td>0.0</td>\n",
       "      <td>1.0</td>\n",
       "      <td>0</td>\n",
       "    </tr>\n",
       "    <tr>\n",
       "      <th>200</th>\n",
       "      <td>48446</td>\n",
       "      <td>22359.0</td>\n",
       "      <td>Women</td>\n",
       "      <td>168.0</td>\n",
       "      <td>86.0</td>\n",
       "      <td>160.0</td>\n",
       "      <td>90.0</td>\n",
       "      <td>Above Normal</td>\n",
       "      <td>Normal</td>\n",
       "      <td>1.0</td>\n",
       "      <td>0.0</td>\n",
       "      <td>1.0</td>\n",
       "      <td>1</td>\n",
       "    </tr>\n",
       "    <tr>\n",
       "      <th>351</th>\n",
       "      <td>99244</td>\n",
       "      <td>21373.0</td>\n",
       "      <td>Men</td>\n",
       "      <td>171.0</td>\n",
       "      <td>75.0</td>\n",
       "      <td>150.0</td>\n",
       "      <td>90.0</td>\n",
       "      <td>Normal</td>\n",
       "      <td>Normal</td>\n",
       "      <td>0.0</td>\n",
       "      <td>0.0</td>\n",
       "      <td>0.0</td>\n",
       "      <td>1</td>\n",
       "    </tr>\n",
       "    <tr>\n",
       "      <th>453</th>\n",
       "      <td>84726</td>\n",
       "      <td>21933.0</td>\n",
       "      <td>Men</td>\n",
       "      <td>172.0</td>\n",
       "      <td>93.0</td>\n",
       "      <td>120.0</td>\n",
       "      <td>80.0</td>\n",
       "      <td>Normal</td>\n",
       "      <td>Normal</td>\n",
       "      <td>0.0</td>\n",
       "      <td>0.0</td>\n",
       "      <td>1.0</td>\n",
       "      <td>0</td>\n",
       "    </tr>\n",
       "  </tbody>\n",
       "</table>\n",
       "</div>"
      ],
      "text/plain": [
       "        id      age gender  height  weight  ap_hi  ap_lo   cholesterol  \\\n",
       "90   25306  17500.0  Women   160.0    62.0  120.0   80.0        Normal   \n",
       "146  91154  19802.0    Men   162.0    72.0  120.0   80.0        Normal   \n",
       "166  69120  14553.0    Men   157.0    60.0  110.0   75.0        Normal   \n",
       "187  68932  20482.0  Women   169.0    64.0  120.0   80.0        Normal   \n",
       "200  48446  22359.0  Women   168.0    86.0  160.0   90.0  Above Normal   \n",
       "351  99244  21373.0    Men   171.0    75.0  150.0   90.0        Normal   \n",
       "453  84726  21933.0    Men   172.0    93.0  120.0   80.0        Normal   \n",
       "\n",
       "             gluc  smoke  alco  active  cardio  \n",
       "90         Normal    0.0   0.0     1.0       0  \n",
       "146        Normal    0.0   0.0     1.0       1  \n",
       "166  Above Normal    0.0   0.0     0.0       1  \n",
       "187        Normal    0.0   0.0     1.0       0  \n",
       "200        Normal    1.0   0.0     1.0       1  \n",
       "351        Normal    0.0   0.0     0.0       1  \n",
       "453        Normal    0.0   0.0     1.0       0  "
      ]
     },
     "execution_count": 25,
     "metadata": {},
     "output_type": "execute_result"
    }
   ],
   "source": [
    "cardio_train_data_set_dropna = cardio_train_data_set.dropna(axis = 0)\n",
    "print(\"Length of cardio train dataset using dropna:\", len(cardio_train_data_set_dropna))\n",
    "cardio_train_data_set_dropna\n",
    "#This is bad, we cannot drop all rows where one item is missing --> we have no data to work with"
   ]
  },
  {
   "cell_type": "code",
   "execution_count": 88,
   "metadata": {},
   "outputs": [
    {
     "data": {
      "text/html": [
       "<div>\n",
       "<style scoped>\n",
       "    .dataframe tbody tr th:only-of-type {\n",
       "        vertical-align: middle;\n",
       "    }\n",
       "\n",
       "    .dataframe tbody tr th {\n",
       "        vertical-align: top;\n",
       "    }\n",
       "\n",
       "    .dataframe thead th {\n",
       "        text-align: right;\n",
       "    }\n",
       "</style>\n",
       "<table border=\"1\" class=\"dataframe\">\n",
       "  <thead>\n",
       "    <tr style=\"text-align: right;\">\n",
       "      <th></th>\n",
       "      <th>id</th>\n",
       "      <th>age</th>\n",
       "      <th>gender</th>\n",
       "      <th>height</th>\n",
       "      <th>weight</th>\n",
       "      <th>ap_hi</th>\n",
       "      <th>ap_lo</th>\n",
       "      <th>cholesterol</th>\n",
       "      <th>gluc</th>\n",
       "      <th>smoke</th>\n",
       "      <th>alco</th>\n",
       "      <th>active</th>\n",
       "      <th>cardio</th>\n",
       "    </tr>\n",
       "  </thead>\n",
       "  <tbody>\n",
       "    <tr>\n",
       "      <th>0</th>\n",
       "      <td>92150</td>\n",
       "      <td>20535.0</td>\n",
       "      <td>0</td>\n",
       "      <td>163.0</td>\n",
       "      <td>75.0</td>\n",
       "      <td>120.0</td>\n",
       "      <td>0.0</td>\n",
       "      <td>0</td>\n",
       "      <td>Normal</td>\n",
       "      <td>0.0</td>\n",
       "      <td>0.0</td>\n",
       "      <td>1.0</td>\n",
       "      <td>0</td>\n",
       "    </tr>\n",
       "    <tr>\n",
       "      <th>1</th>\n",
       "      <td>88880</td>\n",
       "      <td>16125.0</td>\n",
       "      <td>Men</td>\n",
       "      <td>168.0</td>\n",
       "      <td>68.0</td>\n",
       "      <td>110.0</td>\n",
       "      <td>70.0</td>\n",
       "      <td>0</td>\n",
       "      <td>0</td>\n",
       "      <td>0.0</td>\n",
       "      <td>0.0</td>\n",
       "      <td>0.0</td>\n",
       "      <td>0</td>\n",
       "    </tr>\n",
       "    <tr>\n",
       "      <th>2</th>\n",
       "      <td>10483</td>\n",
       "      <td>19761.0</td>\n",
       "      <td>0</td>\n",
       "      <td>170.0</td>\n",
       "      <td>75.0</td>\n",
       "      <td>120.0</td>\n",
       "      <td>0.0</td>\n",
       "      <td>0</td>\n",
       "      <td>Normal</td>\n",
       "      <td>0.0</td>\n",
       "      <td>0.0</td>\n",
       "      <td>1.0</td>\n",
       "      <td>1</td>\n",
       "    </tr>\n",
       "    <tr>\n",
       "      <th>3</th>\n",
       "      <td>22798</td>\n",
       "      <td>19035.0</td>\n",
       "      <td>Men</td>\n",
       "      <td>0.0</td>\n",
       "      <td>89.0</td>\n",
       "      <td>0.0</td>\n",
       "      <td>80.0</td>\n",
       "      <td>Normal</td>\n",
       "      <td>0</td>\n",
       "      <td>0.0</td>\n",
       "      <td>0.0</td>\n",
       "      <td>0.0</td>\n",
       "      <td>0</td>\n",
       "    </tr>\n",
       "    <tr>\n",
       "      <th>4</th>\n",
       "      <td>85542</td>\n",
       "      <td>0.0</td>\n",
       "      <td>0</td>\n",
       "      <td>158.0</td>\n",
       "      <td>74.0</td>\n",
       "      <td>0.0</td>\n",
       "      <td>93.0</td>\n",
       "      <td>High</td>\n",
       "      <td>0</td>\n",
       "      <td>0.0</td>\n",
       "      <td>1.0</td>\n",
       "      <td>1.0</td>\n",
       "      <td>1</td>\n",
       "    </tr>\n",
       "    <tr>\n",
       "      <th>...</th>\n",
       "      <td>...</td>\n",
       "      <td>...</td>\n",
       "      <td>...</td>\n",
       "      <td>...</td>\n",
       "      <td>...</td>\n",
       "      <td>...</td>\n",
       "      <td>...</td>\n",
       "      <td>...</td>\n",
       "      <td>...</td>\n",
       "      <td>...</td>\n",
       "      <td>...</td>\n",
       "      <td>...</td>\n",
       "      <td>...</td>\n",
       "    </tr>\n",
       "    <tr>\n",
       "      <th>495</th>\n",
       "      <td>74393</td>\n",
       "      <td>0.0</td>\n",
       "      <td>Women</td>\n",
       "      <td>174.0</td>\n",
       "      <td>73.0</td>\n",
       "      <td>130.0</td>\n",
       "      <td>0.0</td>\n",
       "      <td>0</td>\n",
       "      <td>Normal</td>\n",
       "      <td>0.0</td>\n",
       "      <td>0.0</td>\n",
       "      <td>1.0</td>\n",
       "      <td>1</td>\n",
       "    </tr>\n",
       "    <tr>\n",
       "      <th>496</th>\n",
       "      <td>38938</td>\n",
       "      <td>0.0</td>\n",
       "      <td>Men</td>\n",
       "      <td>0.0</td>\n",
       "      <td>89.0</td>\n",
       "      <td>130.0</td>\n",
       "      <td>0.0</td>\n",
       "      <td>High</td>\n",
       "      <td>Normal</td>\n",
       "      <td>0.0</td>\n",
       "      <td>0.0</td>\n",
       "      <td>0.0</td>\n",
       "      <td>1</td>\n",
       "    </tr>\n",
       "    <tr>\n",
       "      <th>497</th>\n",
       "      <td>9037</td>\n",
       "      <td>0.0</td>\n",
       "      <td>Women</td>\n",
       "      <td>180.0</td>\n",
       "      <td>84.0</td>\n",
       "      <td>0.0</td>\n",
       "      <td>0.0</td>\n",
       "      <td>Normal</td>\n",
       "      <td>Above Normal</td>\n",
       "      <td>1.0</td>\n",
       "      <td>0.0</td>\n",
       "      <td>1.0</td>\n",
       "      <td>0</td>\n",
       "    </tr>\n",
       "    <tr>\n",
       "      <th>498</th>\n",
       "      <td>27539</td>\n",
       "      <td>0.0</td>\n",
       "      <td>Women</td>\n",
       "      <td>0.0</td>\n",
       "      <td>0.0</td>\n",
       "      <td>110.0</td>\n",
       "      <td>70.0</td>\n",
       "      <td>0</td>\n",
       "      <td>0</td>\n",
       "      <td>0.0</td>\n",
       "      <td>0.0</td>\n",
       "      <td>1.0</td>\n",
       "      <td>0</td>\n",
       "    </tr>\n",
       "    <tr>\n",
       "      <th>499</th>\n",
       "      <td>13409</td>\n",
       "      <td>16698.0</td>\n",
       "      <td>Men</td>\n",
       "      <td>0.0</td>\n",
       "      <td>59.0</td>\n",
       "      <td>0.0</td>\n",
       "      <td>0.0</td>\n",
       "      <td>Normal</td>\n",
       "      <td>Normal</td>\n",
       "      <td>0.0</td>\n",
       "      <td>0.0</td>\n",
       "      <td>1.0</td>\n",
       "      <td>0</td>\n",
       "    </tr>\n",
       "  </tbody>\n",
       "</table>\n",
       "<p>500 rows × 13 columns</p>\n",
       "</div>"
      ],
      "text/plain": [
       "        id      age gender  height  weight  ap_hi  ap_lo cholesterol  \\\n",
       "0    92150  20535.0      0   163.0    75.0  120.0    0.0           0   \n",
       "1    88880  16125.0    Men   168.0    68.0  110.0   70.0           0   \n",
       "2    10483  19761.0      0   170.0    75.0  120.0    0.0           0   \n",
       "3    22798  19035.0    Men     0.0    89.0    0.0   80.0      Normal   \n",
       "4    85542      0.0      0   158.0    74.0    0.0   93.0        High   \n",
       "..     ...      ...    ...     ...     ...    ...    ...         ...   \n",
       "495  74393      0.0  Women   174.0    73.0  130.0    0.0           0   \n",
       "496  38938      0.0    Men     0.0    89.0  130.0    0.0        High   \n",
       "497   9037      0.0  Women   180.0    84.0    0.0    0.0      Normal   \n",
       "498  27539      0.0  Women     0.0     0.0  110.0   70.0           0   \n",
       "499  13409  16698.0    Men     0.0    59.0    0.0    0.0      Normal   \n",
       "\n",
       "             gluc  smoke  alco  active  cardio  \n",
       "0          Normal    0.0   0.0     1.0       0  \n",
       "1               0    0.0   0.0     0.0       0  \n",
       "2          Normal    0.0   0.0     1.0       1  \n",
       "3               0    0.0   0.0     0.0       0  \n",
       "4               0    0.0   1.0     1.0       1  \n",
       "..            ...    ...   ...     ...     ...  \n",
       "495        Normal    0.0   0.0     1.0       1  \n",
       "496        Normal    0.0   0.0     0.0       1  \n",
       "497  Above Normal    1.0   0.0     1.0       0  \n",
       "498             0    0.0   0.0     1.0       0  \n",
       "499        Normal    0.0   0.0     1.0       0  \n",
       "\n",
       "[500 rows x 13 columns]"
      ]
     },
     "execution_count": 88,
     "metadata": {},
     "output_type": "execute_result"
    }
   ],
   "source": [
    "cardio_train_data_set_replace_with_zero = cardio_train_data_set.copy()\n",
    "cardio_train_data_set_replace_with_zero[\"age\"] = cardio_train_data_set_replace_with_zero[\"age\"].fillna(0)\n",
    "cardio_train_data_set_replace_with_zero[\"gender\"] = cardio_train_data_set_replace_with_zero[\"gender\"].fillna(0)\n",
    "cardio_train_data_set_replace_with_zero[\"height\"] = cardio_train_data_set_replace_with_zero[\"height\"].fillna(0)\n",
    "cardio_train_data_set_replace_with_zero[\"weight\"] = cardio_train_data_set_replace_with_zero[\"weight\"].fillna(0)\n",
    "cardio_train_data_set_replace_with_zero[\"ap_hi\"] = cardio_train_data_set_replace_with_zero[\"ap_hi\"].fillna(0)\n",
    "cardio_train_data_set_replace_with_zero[\"ap_lo\"] = cardio_train_data_set_replace_with_zero[\"ap_lo\"].fillna(0)\n",
    "cardio_train_data_set_replace_with_zero[\"cholesterol\"] = cardio_train_data_set_replace_with_zero[\"cholesterol\"].fillna(0)\n",
    "cardio_train_data_set_replace_with_zero[\"gluc\"] = cardio_train_data_set_replace_with_zero[\"gluc\"].fillna(0)\n",
    "cardio_train_data_set_replace_with_zero[\"smoke\"] = cardio_train_data_set_replace_with_zero[\"smoke\"].fillna(0)\n",
    "cardio_train_data_set_replace_with_zero[\"alco\"] = cardio_train_data_set_replace_with_zero[\"alco\"].fillna(0)\n",
    "cardio_train_data_set_replace_with_zero[\"active\"] = cardio_train_data_set_replace_with_zero[\"active\"].fillna(0)\n",
    "\n",
    "\n",
    "\n",
    "cardio_train_data_set_replace_with_zero"
   ]
  },
  {
   "cell_type": "code",
   "execution_count": 91,
   "metadata": {},
   "outputs": [
    {
     "data": {
      "text/html": [
       "<div>\n",
       "<style scoped>\n",
       "    .dataframe tbody tr th:only-of-type {\n",
       "        vertical-align: middle;\n",
       "    }\n",
       "\n",
       "    .dataframe tbody tr th {\n",
       "        vertical-align: top;\n",
       "    }\n",
       "\n",
       "    .dataframe thead th {\n",
       "        text-align: right;\n",
       "    }\n",
       "</style>\n",
       "<table border=\"1\" class=\"dataframe\">\n",
       "  <thead>\n",
       "    <tr style=\"text-align: right;\">\n",
       "      <th></th>\n",
       "      <th>id</th>\n",
       "      <th>age</th>\n",
       "      <th>gender</th>\n",
       "      <th>height</th>\n",
       "      <th>weight</th>\n",
       "      <th>ap_hi</th>\n",
       "      <th>ap_lo</th>\n",
       "      <th>cholesterol</th>\n",
       "      <th>gluc</th>\n",
       "      <th>smoke</th>\n",
       "      <th>alco</th>\n",
       "      <th>active</th>\n",
       "      <th>cardio</th>\n",
       "    </tr>\n",
       "  </thead>\n",
       "  <tbody>\n",
       "    <tr>\n",
       "      <th>0</th>\n",
       "      <td>92150</td>\n",
       "      <td>20535.0</td>\n",
       "      <td>NaN</td>\n",
       "      <td>163.0</td>\n",
       "      <td>75.0</td>\n",
       "      <td>120.0</td>\n",
       "      <td>NaN</td>\n",
       "      <td>NaN</td>\n",
       "      <td>Normal</td>\n",
       "      <td>0.0</td>\n",
       "      <td>0.0</td>\n",
       "      <td>1.0</td>\n",
       "      <td>0</td>\n",
       "    </tr>\n",
       "    <tr>\n",
       "      <th>1</th>\n",
       "      <td>88880</td>\n",
       "      <td>16125.0</td>\n",
       "      <td>Men</td>\n",
       "      <td>168.0</td>\n",
       "      <td>68.0</td>\n",
       "      <td>110.0</td>\n",
       "      <td>70.0</td>\n",
       "      <td>NaN</td>\n",
       "      <td>NaN</td>\n",
       "      <td>0.0</td>\n",
       "      <td>0.0</td>\n",
       "      <td>NaN</td>\n",
       "      <td>0</td>\n",
       "    </tr>\n",
       "    <tr>\n",
       "      <th>2</th>\n",
       "      <td>10483</td>\n",
       "      <td>19761.0</td>\n",
       "      <td>NaN</td>\n",
       "      <td>170.0</td>\n",
       "      <td>75.0</td>\n",
       "      <td>120.0</td>\n",
       "      <td>NaN</td>\n",
       "      <td>NaN</td>\n",
       "      <td>Normal</td>\n",
       "      <td>0.0</td>\n",
       "      <td>0.0</td>\n",
       "      <td>1.0</td>\n",
       "      <td>1</td>\n",
       "    </tr>\n",
       "    <tr>\n",
       "      <th>3</th>\n",
       "      <td>22798</td>\n",
       "      <td>19035.0</td>\n",
       "      <td>Men</td>\n",
       "      <td>NaN</td>\n",
       "      <td>89.0</td>\n",
       "      <td>NaN</td>\n",
       "      <td>80.0</td>\n",
       "      <td>Normal</td>\n",
       "      <td>NaN</td>\n",
       "      <td>0.0</td>\n",
       "      <td>NaN</td>\n",
       "      <td>NaN</td>\n",
       "      <td>0</td>\n",
       "    </tr>\n",
       "    <tr>\n",
       "      <th>4</th>\n",
       "      <td>85542</td>\n",
       "      <td>NaN</td>\n",
       "      <td>NaN</td>\n",
       "      <td>158.0</td>\n",
       "      <td>74.0</td>\n",
       "      <td>NaN</td>\n",
       "      <td>93.0</td>\n",
       "      <td>High</td>\n",
       "      <td>NaN</td>\n",
       "      <td>0.0</td>\n",
       "      <td>1.0</td>\n",
       "      <td>1.0</td>\n",
       "      <td>1</td>\n",
       "    </tr>\n",
       "    <tr>\n",
       "      <th>...</th>\n",
       "      <td>...</td>\n",
       "      <td>...</td>\n",
       "      <td>...</td>\n",
       "      <td>...</td>\n",
       "      <td>...</td>\n",
       "      <td>...</td>\n",
       "      <td>...</td>\n",
       "      <td>...</td>\n",
       "      <td>...</td>\n",
       "      <td>...</td>\n",
       "      <td>...</td>\n",
       "      <td>...</td>\n",
       "      <td>...</td>\n",
       "    </tr>\n",
       "    <tr>\n",
       "      <th>495</th>\n",
       "      <td>74393</td>\n",
       "      <td>NaN</td>\n",
       "      <td>Women</td>\n",
       "      <td>174.0</td>\n",
       "      <td>73.0</td>\n",
       "      <td>130.0</td>\n",
       "      <td>NaN</td>\n",
       "      <td>NaN</td>\n",
       "      <td>Normal</td>\n",
       "      <td>0.0</td>\n",
       "      <td>0.0</td>\n",
       "      <td>1.0</td>\n",
       "      <td>1</td>\n",
       "    </tr>\n",
       "    <tr>\n",
       "      <th>496</th>\n",
       "      <td>38938</td>\n",
       "      <td>NaN</td>\n",
       "      <td>Men</td>\n",
       "      <td>NaN</td>\n",
       "      <td>89.0</td>\n",
       "      <td>130.0</td>\n",
       "      <td>NaN</td>\n",
       "      <td>High</td>\n",
       "      <td>Normal</td>\n",
       "      <td>0.0</td>\n",
       "      <td>0.0</td>\n",
       "      <td>NaN</td>\n",
       "      <td>1</td>\n",
       "    </tr>\n",
       "    <tr>\n",
       "      <th>497</th>\n",
       "      <td>9037</td>\n",
       "      <td>NaN</td>\n",
       "      <td>Women</td>\n",
       "      <td>180.0</td>\n",
       "      <td>84.0</td>\n",
       "      <td>NaN</td>\n",
       "      <td>NaN</td>\n",
       "      <td>Normal</td>\n",
       "      <td>Above Normal</td>\n",
       "      <td>1.0</td>\n",
       "      <td>0.0</td>\n",
       "      <td>1.0</td>\n",
       "      <td>0</td>\n",
       "    </tr>\n",
       "    <tr>\n",
       "      <th>498</th>\n",
       "      <td>27539</td>\n",
       "      <td>NaN</td>\n",
       "      <td>Women</td>\n",
       "      <td>NaN</td>\n",
       "      <td>NaN</td>\n",
       "      <td>110.0</td>\n",
       "      <td>70.0</td>\n",
       "      <td>NaN</td>\n",
       "      <td>NaN</td>\n",
       "      <td>NaN</td>\n",
       "      <td>0.0</td>\n",
       "      <td>1.0</td>\n",
       "      <td>0</td>\n",
       "    </tr>\n",
       "    <tr>\n",
       "      <th>499</th>\n",
       "      <td>13409</td>\n",
       "      <td>16698.0</td>\n",
       "      <td>Men</td>\n",
       "      <td>NaN</td>\n",
       "      <td>59.0</td>\n",
       "      <td>NaN</td>\n",
       "      <td>NaN</td>\n",
       "      <td>Normal</td>\n",
       "      <td>Normal</td>\n",
       "      <td>NaN</td>\n",
       "      <td>0.0</td>\n",
       "      <td>1.0</td>\n",
       "      <td>0</td>\n",
       "    </tr>\n",
       "  </tbody>\n",
       "</table>\n",
       "<p>500 rows × 13 columns</p>\n",
       "</div>"
      ],
      "text/plain": [
       "        id      age gender  height  weight  ap_hi  ap_lo cholesterol  \\\n",
       "0    92150  20535.0    NaN   163.0    75.0  120.0    NaN         NaN   \n",
       "1    88880  16125.0    Men   168.0    68.0  110.0   70.0         NaN   \n",
       "2    10483  19761.0    NaN   170.0    75.0  120.0    NaN         NaN   \n",
       "3    22798  19035.0    Men     NaN    89.0    NaN   80.0      Normal   \n",
       "4    85542      NaN    NaN   158.0    74.0    NaN   93.0        High   \n",
       "..     ...      ...    ...     ...     ...    ...    ...         ...   \n",
       "495  74393      NaN  Women   174.0    73.0  130.0    NaN         NaN   \n",
       "496  38938      NaN    Men     NaN    89.0  130.0    NaN        High   \n",
       "497   9037      NaN  Women   180.0    84.0    NaN    NaN      Normal   \n",
       "498  27539      NaN  Women     NaN     NaN  110.0   70.0         NaN   \n",
       "499  13409  16698.0    Men     NaN    59.0    NaN    NaN      Normal   \n",
       "\n",
       "             gluc  smoke  alco  active  cardio  \n",
       "0          Normal    0.0   0.0     1.0       0  \n",
       "1             NaN    0.0   0.0     NaN       0  \n",
       "2          Normal    0.0   0.0     1.0       1  \n",
       "3             NaN    0.0   NaN     NaN       0  \n",
       "4             NaN    0.0   1.0     1.0       1  \n",
       "..            ...    ...   ...     ...     ...  \n",
       "495        Normal    0.0   0.0     1.0       1  \n",
       "496        Normal    0.0   0.0     NaN       1  \n",
       "497  Above Normal    1.0   0.0     1.0       0  \n",
       "498           NaN    NaN   0.0     1.0       0  \n",
       "499        Normal    NaN   0.0     1.0       0  \n",
       "\n",
       "[500 rows x 13 columns]"
      ]
     },
     "execution_count": 91,
     "metadata": {},
     "output_type": "execute_result"
    }
   ],
   "source": [
    "cardio_train_data_set_replace_with_mean = cardio_train_data_set.copy()\n",
    "cardio_train_data_set_replace_with_mean.fillna(cardio_train_data_set_replace_with_mean.mean())\n",
    "cardio_train_data_set_replace_with_mean"
   ]
  },
  {
   "cell_type": "code",
   "execution_count": 89,
   "metadata": {},
   "outputs": [
    {
     "data": {
      "text/html": [
       "<div>\n",
       "<style scoped>\n",
       "    .dataframe tbody tr th:only-of-type {\n",
       "        vertical-align: middle;\n",
       "    }\n",
       "\n",
       "    .dataframe tbody tr th {\n",
       "        vertical-align: top;\n",
       "    }\n",
       "\n",
       "    .dataframe thead th {\n",
       "        text-align: right;\n",
       "    }\n",
       "</style>\n",
       "<table border=\"1\" class=\"dataframe\">\n",
       "  <thead>\n",
       "    <tr style=\"text-align: right;\">\n",
       "      <th></th>\n",
       "      <th>id</th>\n",
       "      <th>age</th>\n",
       "      <th>gender</th>\n",
       "      <th>height</th>\n",
       "      <th>weight</th>\n",
       "      <th>ap_hi</th>\n",
       "      <th>ap_lo</th>\n",
       "      <th>cholesterol</th>\n",
       "      <th>gluc</th>\n",
       "      <th>smoke</th>\n",
       "      <th>alco</th>\n",
       "      <th>active</th>\n",
       "      <th>cardio</th>\n",
       "    </tr>\n",
       "  </thead>\n",
       "  <tbody>\n",
       "    <tr>\n",
       "      <th>0</th>\n",
       "      <td>92150</td>\n",
       "      <td>20535.0</td>\n",
       "      <td>NaN</td>\n",
       "      <td>163.0</td>\n",
       "      <td>75.0</td>\n",
       "      <td>120.0</td>\n",
       "      <td>NaN</td>\n",
       "      <td>NaN</td>\n",
       "      <td>Normal</td>\n",
       "      <td>0.0</td>\n",
       "      <td>0.0</td>\n",
       "      <td>1.0</td>\n",
       "      <td>0</td>\n",
       "    </tr>\n",
       "    <tr>\n",
       "      <th>1</th>\n",
       "      <td>88880</td>\n",
       "      <td>16125.0</td>\n",
       "      <td>Men</td>\n",
       "      <td>168.0</td>\n",
       "      <td>68.0</td>\n",
       "      <td>110.0</td>\n",
       "      <td>70.0</td>\n",
       "      <td>NaN</td>\n",
       "      <td>NaN</td>\n",
       "      <td>0.0</td>\n",
       "      <td>0.0</td>\n",
       "      <td>NaN</td>\n",
       "      <td>0</td>\n",
       "    </tr>\n",
       "    <tr>\n",
       "      <th>2</th>\n",
       "      <td>10483</td>\n",
       "      <td>19761.0</td>\n",
       "      <td>NaN</td>\n",
       "      <td>170.0</td>\n",
       "      <td>75.0</td>\n",
       "      <td>120.0</td>\n",
       "      <td>NaN</td>\n",
       "      <td>NaN</td>\n",
       "      <td>Normal</td>\n",
       "      <td>0.0</td>\n",
       "      <td>0.0</td>\n",
       "      <td>1.0</td>\n",
       "      <td>1</td>\n",
       "    </tr>\n",
       "    <tr>\n",
       "      <th>3</th>\n",
       "      <td>22798</td>\n",
       "      <td>19035.0</td>\n",
       "      <td>Men</td>\n",
       "      <td>NaN</td>\n",
       "      <td>89.0</td>\n",
       "      <td>NaN</td>\n",
       "      <td>80.0</td>\n",
       "      <td>Normal</td>\n",
       "      <td>NaN</td>\n",
       "      <td>0.0</td>\n",
       "      <td>NaN</td>\n",
       "      <td>NaN</td>\n",
       "      <td>0</td>\n",
       "    </tr>\n",
       "    <tr>\n",
       "      <th>4</th>\n",
       "      <td>85542</td>\n",
       "      <td>NaN</td>\n",
       "      <td>NaN</td>\n",
       "      <td>158.0</td>\n",
       "      <td>74.0</td>\n",
       "      <td>NaN</td>\n",
       "      <td>93.0</td>\n",
       "      <td>High</td>\n",
       "      <td>NaN</td>\n",
       "      <td>0.0</td>\n",
       "      <td>1.0</td>\n",
       "      <td>1.0</td>\n",
       "      <td>1</td>\n",
       "    </tr>\n",
       "    <tr>\n",
       "      <th>...</th>\n",
       "      <td>...</td>\n",
       "      <td>...</td>\n",
       "      <td>...</td>\n",
       "      <td>...</td>\n",
       "      <td>...</td>\n",
       "      <td>...</td>\n",
       "      <td>...</td>\n",
       "      <td>...</td>\n",
       "      <td>...</td>\n",
       "      <td>...</td>\n",
       "      <td>...</td>\n",
       "      <td>...</td>\n",
       "      <td>...</td>\n",
       "    </tr>\n",
       "    <tr>\n",
       "      <th>495</th>\n",
       "      <td>74393</td>\n",
       "      <td>NaN</td>\n",
       "      <td>Women</td>\n",
       "      <td>174.0</td>\n",
       "      <td>73.0</td>\n",
       "      <td>130.0</td>\n",
       "      <td>NaN</td>\n",
       "      <td>NaN</td>\n",
       "      <td>Normal</td>\n",
       "      <td>0.0</td>\n",
       "      <td>0.0</td>\n",
       "      <td>1.0</td>\n",
       "      <td>1</td>\n",
       "    </tr>\n",
       "    <tr>\n",
       "      <th>496</th>\n",
       "      <td>38938</td>\n",
       "      <td>NaN</td>\n",
       "      <td>Men</td>\n",
       "      <td>NaN</td>\n",
       "      <td>89.0</td>\n",
       "      <td>130.0</td>\n",
       "      <td>NaN</td>\n",
       "      <td>High</td>\n",
       "      <td>Normal</td>\n",
       "      <td>0.0</td>\n",
       "      <td>0.0</td>\n",
       "      <td>NaN</td>\n",
       "      <td>1</td>\n",
       "    </tr>\n",
       "    <tr>\n",
       "      <th>497</th>\n",
       "      <td>9037</td>\n",
       "      <td>NaN</td>\n",
       "      <td>Women</td>\n",
       "      <td>180.0</td>\n",
       "      <td>84.0</td>\n",
       "      <td>NaN</td>\n",
       "      <td>NaN</td>\n",
       "      <td>Normal</td>\n",
       "      <td>Above Normal</td>\n",
       "      <td>1.0</td>\n",
       "      <td>0.0</td>\n",
       "      <td>1.0</td>\n",
       "      <td>0</td>\n",
       "    </tr>\n",
       "    <tr>\n",
       "      <th>498</th>\n",
       "      <td>27539</td>\n",
       "      <td>NaN</td>\n",
       "      <td>Women</td>\n",
       "      <td>NaN</td>\n",
       "      <td>NaN</td>\n",
       "      <td>110.0</td>\n",
       "      <td>70.0</td>\n",
       "      <td>NaN</td>\n",
       "      <td>NaN</td>\n",
       "      <td>NaN</td>\n",
       "      <td>0.0</td>\n",
       "      <td>1.0</td>\n",
       "      <td>0</td>\n",
       "    </tr>\n",
       "    <tr>\n",
       "      <th>499</th>\n",
       "      <td>13409</td>\n",
       "      <td>16698.0</td>\n",
       "      <td>Men</td>\n",
       "      <td>NaN</td>\n",
       "      <td>59.0</td>\n",
       "      <td>NaN</td>\n",
       "      <td>NaN</td>\n",
       "      <td>Normal</td>\n",
       "      <td>Normal</td>\n",
       "      <td>NaN</td>\n",
       "      <td>0.0</td>\n",
       "      <td>1.0</td>\n",
       "      <td>0</td>\n",
       "    </tr>\n",
       "  </tbody>\n",
       "</table>\n",
       "<p>500 rows × 13 columns</p>\n",
       "</div>"
      ],
      "text/plain": [
       "        id      age gender  height  weight  ap_hi  ap_lo cholesterol  \\\n",
       "0    92150  20535.0    NaN   163.0    75.0  120.0    NaN         NaN   \n",
       "1    88880  16125.0    Men   168.0    68.0  110.0   70.0         NaN   \n",
       "2    10483  19761.0    NaN   170.0    75.0  120.0    NaN         NaN   \n",
       "3    22798  19035.0    Men     NaN    89.0    NaN   80.0      Normal   \n",
       "4    85542      NaN    NaN   158.0    74.0    NaN   93.0        High   \n",
       "..     ...      ...    ...     ...     ...    ...    ...         ...   \n",
       "495  74393      NaN  Women   174.0    73.0  130.0    NaN         NaN   \n",
       "496  38938      NaN    Men     NaN    89.0  130.0    NaN        High   \n",
       "497   9037      NaN  Women   180.0    84.0    NaN    NaN      Normal   \n",
       "498  27539      NaN  Women     NaN     NaN  110.0   70.0         NaN   \n",
       "499  13409  16698.0    Men     NaN    59.0    NaN    NaN      Normal   \n",
       "\n",
       "             gluc  smoke  alco  active  cardio  \n",
       "0          Normal    0.0   0.0     1.0       0  \n",
       "1             NaN    0.0   0.0     NaN       0  \n",
       "2          Normal    0.0   0.0     1.0       1  \n",
       "3             NaN    0.0   NaN     NaN       0  \n",
       "4             NaN    0.0   1.0     1.0       1  \n",
       "..            ...    ...   ...     ...     ...  \n",
       "495        Normal    0.0   0.0     1.0       1  \n",
       "496        Normal    0.0   0.0     NaN       1  \n",
       "497  Above Normal    1.0   0.0     1.0       0  \n",
       "498           NaN    NaN   0.0     1.0       0  \n",
       "499        Normal    NaN   0.0     1.0       0  \n",
       "\n",
       "[500 rows x 13 columns]"
      ]
     },
     "execution_count": 89,
     "metadata": {},
     "output_type": "execute_result"
    }
   ],
   "source": [
    "cardio_train_data_set"
   ]
  }
 ],
 "metadata": {
  "kernelspec": {
   "display_name": "Python 3",
   "language": "python",
   "name": "python3"
  },
  "language_info": {
   "codemirror_mode": {
    "name": "ipython",
    "version": 3
   },
   "file_extension": ".py",
   "mimetype": "text/x-python",
   "name": "python",
   "nbconvert_exporter": "python",
   "pygments_lexer": "ipython3",
   "version": "3.8.5"
  }
 },
 "nbformat": 4,
 "nbformat_minor": 4
}
